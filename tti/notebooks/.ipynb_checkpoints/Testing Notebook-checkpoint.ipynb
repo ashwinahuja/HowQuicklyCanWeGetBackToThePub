{
 "cells": [
  {
   "cell_type": "code",
   "execution_count": 1,
   "metadata": {},
   "outputs": [
    {
     "name": "stdout",
     "output_type": "stream",
     "text": [
      "/Users/ashwin/Desktop/College Work/Fourth Year/L48/GroupProject/tti\n"
     ]
    }
   ],
   "source": [
    "%pwd\n",
    "%cd /Users/ashwin/Desktop/College Work/Fourth Year/L48/GroupProject/tti"
   ]
  },
  {
   "cell_type": "code",
   "execution_count": 30,
   "metadata": {},
   "outputs": [
    {
     "data": {
      "text/plain": [
       "<module 'tti_explorer.contacts' from '/Users/ashwin/Desktop/College Work/Fourth Year/L48/GroupProject/tti/tti_explorer/contacts.py'>"
      ]
     },
     "execution_count": 30,
     "metadata": {},
     "output_type": "execute_result"
    }
   ],
   "source": [
    "import os\n",
    "\n",
    "import numpy as np\n",
    "import pandas as pd\n",
    "from tqdm.notebook import trange\n",
    "from tqdm import tqdm\n",
    "import importlib\n",
    "import pickle\n",
    "import tti_explorer\n",
    "from tti_explorer import config, utils\n",
    "from tti_explorer.case import simulate_case, CaseFactors\n",
    "from tti_explorer.contacts import EmpiricalContactsSimulator\n",
    "from tti_explorer.strategies import TTIFlowModel, RETURN_KEYS\n",
    "import matplotlib.pyplot as plt\n",
    "\n",
    "%matplotlib inline\n",
    "\n",
    "importlib.reload(tti_explorer)\n",
    "importlib.reload(tti_explorer.config)\n",
    "importlib.reload(tti_explorer.utils)\n",
    "importlib.reload(tti_explorer.case)\n",
    "importlib.reload(tti_explorer.strategies)\n",
    "importlib.reload(tti_explorer.contacts)"
   ]
  },
  {
   "cell_type": "code",
   "execution_count": 3,
   "metadata": {},
   "outputs": [],
   "source": [
    "def print_doc(func):\n",
    "    print(func.__doc__)"
   ]
  },
  {
   "cell_type": "code",
   "execution_count": 4,
   "metadata": {},
   "outputs": [],
   "source": [
    "name = 'S3_test_based_TTI'\n",
    "rng = np.random.RandomState(0)\n",
    "case_config = config.get_case_config(\"delve\")\n",
    "#case_config = config.get_case_config(\"delve_mostly_old\")\n",
    "#case_config = config.get_case_config(\"delve_mostly_twenties\")\n",
    "contacts_config = config.get_contacts_config(\"delve\")\n",
    "policy_config = config.get_strategy_configs(\"delve\", name)[name]\n",
    "factor_config = utils.get_sub_dictionary(policy_config, config.DELVE_CASE_FACTOR_KEYS)\n",
    "strategy_config = utils.get_sub_dictionary(policy_config, config.DELVE_STRATEGY_FACTOR_KEYS)"
   ]
  },
  {
   "cell_type": "code",
   "execution_count": 5,
   "metadata": {},
   "outputs": [],
   "source": [
    "def load_csv(pth):\n",
    "    return np.loadtxt(pth, dtype=int, skiprows=1, delimiter=\",\")"
   ]
  },
  {
   "cell_type": "code",
   "execution_count": 6,
   "metadata": {},
   "outputs": [],
   "source": [
    "path_to_bbc_data = os.path.join(\"data\", \"processed\")\n",
    "\n",
    "child_no_school = load_csv(os.path.join(path_to_bbc_data, \"childnoschool.csv\"))\n",
    "child_school = load_csv(os.path.join(path_to_bbc_data, \"childschool.csv\"))\n",
    "university = load_csv(os.path.join(path_to_bbc_data, \"university.csv\"))\n",
    "twenties = load_csv(os.path.join(path_to_bbc_data, \"twenties.csv\"))\n",
    "thirties_to_fifties = load_csv(os.path.join(path_to_bbc_data, \"thirtiestofifties.csv\"))\n",
    "fifties_to_seventies = load_csv(os.path.join(path_to_bbc_data, \"fiftiestoseventies.csv\"))\n",
    "seventy_plus = load_csv(os.path.join(path_to_bbc_data, \"seventyplus.csv\"))"
   ]
  },
  {
   "cell_type": "code",
   "execution_count": 7,
   "metadata": {},
   "outputs": [],
   "source": [
    "double_dose = False\n",
    "vaccine_strategy = 'gov'\n",
    "#Vaccine strategies are: none, all, gov, young_inc_children, \n",
    "#                        young_exc_children"
   ]
  },
  {
   "cell_type": "code",
   "execution_count": 8,
   "metadata": {},
   "outputs": [],
   "source": [
    "simulate_contacts = EmpiricalContactsSimulator(child_no_school, child_school, university, twenties, thirties_to_fifties, fifties_to_seventies, seventy_plus, double_dose, vaccine_strategy, rng)\n",
    "tti_model = TTIFlowModel(rng, **strategy_config)"
   ]
  },
  {
   "cell_type": "code",
   "execution_count": 9,
   "metadata": {},
   "outputs": [
    {
     "name": "stderr",
     "output_type": "stream",
     "text": [
      "100%|██████████| 1000/1000 [00:14<00:00, 69.45it/s]\n"
     ]
    }
   ],
   "source": [
    "n_seperate_starting_cases = 1000\n",
    "n_repetitions = 10\n",
    "outputs = list()\n",
    "death_rates = []\n",
    "\n",
    "for i in tqdm(range(n_seperate_starting_cases)):\n",
    "    old_probs = []\n",
    "    for i in range(n_repetitions):\n",
    "        case = simulate_case(rng, p_for_categories_continued=old_probs, **case_config)\n",
    "        case_factors = CaseFactors.simulate_from(rng, case, **factor_config)\n",
    "        (contacts, old_probs, death_rate) = simulate_contacts(case, double_dose, vaccine_strategy, None, **contacts_config)\n",
    "        res = tti_model(case, contacts, case_factors)\n",
    "        outputs.append(res)\n",
    "        death_rates.append(death_rate)"
   ]
  },
  {
   "cell_type": "code",
   "execution_count": 10,
   "metadata": {},
   "outputs": [
    {
     "name": "stdout",
     "output_type": "stream",
     "text": [
      "Average Mortality Rate: 3.82%\n",
      "Base R: 3.524\n",
      "Effective R: 1.106\n"
     ]
    }
   ],
   "source": [
    "to_show = [\n",
    "    RETURN_KEYS.base_r,\n",
    "    RETURN_KEYS.reduced_r\n",
    "]\n",
    "\n",
    "x = pd.DataFrame(outputs).mean(0).loc[to_show].to_frame().to_numpy().flatten()\n",
    "base_r = x[0]\n",
    "effective_r = x[1]\n",
    "relevant_death_rate_sum = sum(n for n in death_rates if n != -1)\n",
    "relevant_death_rate_count = sum(1 for n in death_rates if n != -1)\n",
    "dr = relevant_death_rate_sum / relevant_death_rate_count\n",
    "\n",
    "print(\"Average Mortality Rate: \" + str(round(dr*100,2)) + \"%\")\n",
    "print(\"Base R: \" + str(round(base_r, 3)))\n",
    "print(\"Effective R: \" + str(round(effective_r, 3)))"
   ]
  },
  {
   "cell_type": "code",
   "execution_count": 41,
   "metadata": {},
   "outputs": [
    {
     "name": "stderr",
     "output_type": "stream",
     "text": [
      "100%|██████████| 99/99 [00:01<00:00, 55.02it/s]\n"
     ]
    }
   ],
   "source": [
    "base_r_rates = []\n",
    "effective_r_rates = []\n",
    "av_mortality_rates = []\n",
    "to_show = [\n",
    "    RETURN_KEYS.base_r,\n",
    "    RETURN_KEYS.reduced_r\n",
    "]\n",
    "\n",
    "for immunity in tqdm(np.linspace(0,0.99,99)):\n",
    "    n_seperate_starting_cases = 10\n",
    "    n_repetitions = 1\n",
    "    outputs = list()\n",
    "    death_rates = []\n",
    "    \n",
    "    for i in range(n_seperate_starting_cases):\n",
    "        old_probs = []\n",
    "        for i in range(n_repetitions):\n",
    "            case = simulate_case(rng, p_for_categories_continued=old_probs, **case_config)\n",
    "            case_factors = CaseFactors.simulate_from(rng, case, **factor_config)\n",
    "            (contacts, old_probs, death_rate) = simulate_contacts(case, None, immunity, None, **contacts_config)\n",
    "            res = tti_model(case, contacts, case_factors)\n",
    "            outputs.append(res)\n",
    "            death_rates.append(death_rate)\n",
    "            \n",
    "\n",
    "\n",
    "    x = pd.DataFrame(outputs).mean(0).loc[to_show].to_frame().to_numpy().flatten()\n",
    "    base_r_rates.append(x[0])\n",
    "    effective_r_rates.append(x[1])\n",
    "    relevant_death_rate_sum = sum(n for n in death_rates if n != -1)\n",
    "    relevant_death_rate_count = sum(1 for n in death_rates if n != -1)\n",
    "    if(relevant_death_rate_count == 0):\n",
    "        dr = 0\n",
    "    else:\n",
    "        dr = relevant_death_rate_sum / relevant_death_rate_count\n",
    "    av_mortality_rates.append(dr)\n",
    "\n",
    "\n",
    "with open('results/immunity_br.pkl', 'wb+') as f:\n",
    "    pickle.dump(base_r_rates, f)\n",
    "    \n",
    "with open('results/immunity_er.pkl', 'wb+') as f:\n",
    "    pickle.dump(effective_r_rates, f)\n",
    "    \n",
    "with open('results/immunity_dr.pkl', 'wb+') as f:\n",
    "    pickle.dump(av_mortality_rates, f)"
   ]
  },
  {
   "cell_type": "code",
   "execution_count": 21,
   "metadata": {},
   "outputs": [
    {
     "data": {
      "image/png": "[encoded data removed]",
      "text/plain": [
       "<Figure size 432x288 with 2 Axes>"
      ]
     },
     "metadata": {
      "needs_background": "light"
     },
     "output_type": "display_data"
    },
    {
     "data": {
      "text/plain": [
       "<Figure size 432x288 with 0 Axes>"
      ]
     },
     "metadata": {},
     "output_type": "display_data"
    }
   ],
   "source": [
    "fig, ax = plt.subplots()\n",
    "ax.plot(np.linspace(0,.99,99), base_r_rates, color = \"red\", label=\"Base R Rates\")\n",
    "ax.plot(np.linspace(0,.99,99), effective_r_rates, color = \"orange\", label=\"Effective R Rates\")\n",
    "ax.set_xlabel(\"Population Immunity\")\n",
    "ax.set_ylabel(\"R rate\")\n",
    "ax2 = ax.twinx()  \n",
    "ax2.set_ylabel(\"Mortality Rate\")\n",
    "ax2.plot(np.linspace(0,.99,99), av_mortality_rates, color = \"blue\", label=\"Mortality Rates\")\n",
    "ax2.set_ylim(0, 0.1)\n",
    "fig.tight_layout() \n",
    "plt.figure()\n",
    "plt.show()"
   ]
  },
  {
   "cell_type": "code",
   "execution_count": 19,
   "metadata": {},
   "outputs": [
    {
     "name": "stderr",
     "output_type": "stream",
     "text": [
      "  3%|▎         | 3/100 [00:07<03:48,  2.36s/it]\n"
     ]
    },
    {
     "ename": "KeyboardInterrupt",
     "evalue": "",
     "output_type": "error",
     "traceback": [
      "\u001b[0;31m---------------------------------------------------------------------------\u001b[0m",
      "\u001b[0;31mKeyboardInterrupt\u001b[0m                         Traceback (most recent call last)",
      "\u001b[0;32m<ipython-input-19-ac1375ffb06c>\u001b[0m in \u001b[0;36m<module>\u001b[0;34m\u001b[0m\n\u001b[1;32m     23\u001b[0m             \u001b[0mcase\u001b[0m \u001b[0;34m=\u001b[0m \u001b[0msimulate_case\u001b[0m\u001b[0;34m(\u001b[0m\u001b[0mrng\u001b[0m\u001b[0;34m,\u001b[0m \u001b[0mp_for_categories_continued\u001b[0m\u001b[0;34m=\u001b[0m\u001b[0mold_probs\u001b[0m\u001b[0;34m,\u001b[0m \u001b[0;34m**\u001b[0m\u001b[0mcase_config\u001b[0m\u001b[0;34m)\u001b[0m\u001b[0;34m\u001b[0m\u001b[0;34m\u001b[0m\u001b[0m\n\u001b[1;32m     24\u001b[0m             \u001b[0mcase_factors\u001b[0m \u001b[0;34m=\u001b[0m \u001b[0mCaseFactors\u001b[0m\u001b[0;34m.\u001b[0m\u001b[0msimulate_from\u001b[0m\u001b[0;34m(\u001b[0m\u001b[0mrng\u001b[0m\u001b[0;34m,\u001b[0m \u001b[0mcase\u001b[0m\u001b[0;34m,\u001b[0m \u001b[0;34m**\u001b[0m\u001b[0mfactor_config\u001b[0m\u001b[0;34m)\u001b[0m\u001b[0;34m\u001b[0m\u001b[0;34m\u001b[0m\u001b[0m\n\u001b[0;32m---> 25\u001b[0;31m             \u001b[0;34m(\u001b[0m\u001b[0mcontacts\u001b[0m\u001b[0;34m,\u001b[0m \u001b[0mold_probs\u001b[0m\u001b[0;34m,\u001b[0m \u001b[0mdeath_rate\u001b[0m\u001b[0;34m)\u001b[0m \u001b[0;34m=\u001b[0m \u001b[0msimulate_contacts\u001b[0m\u001b[0;34m(\u001b[0m\u001b[0mcase\u001b[0m\u001b[0;34m,\u001b[0m \u001b[0;32mFalse\u001b[0m\u001b[0;34m,\u001b[0m \u001b[0mvaccine_strategy\u001b[0m\u001b[0;34m,\u001b[0m \u001b[0mvaccine_efficacy\u001b[0m\u001b[0;34m,\u001b[0m \u001b[0;34m**\u001b[0m\u001b[0mcontacts_config\u001b[0m\u001b[0;34m)\u001b[0m\u001b[0;34m\u001b[0m\u001b[0;34m\u001b[0m\u001b[0m\n\u001b[0m\u001b[1;32m     26\u001b[0m             \u001b[0mres\u001b[0m \u001b[0;34m=\u001b[0m \u001b[0mtti_model\u001b[0m\u001b[0;34m(\u001b[0m\u001b[0mcase\u001b[0m\u001b[0;34m,\u001b[0m \u001b[0mcontacts\u001b[0m\u001b[0;34m,\u001b[0m \u001b[0mcase_factors\u001b[0m\u001b[0;34m)\u001b[0m\u001b[0;34m\u001b[0m\u001b[0;34m\u001b[0m\u001b[0m\n\u001b[1;32m     27\u001b[0m             \u001b[0moutputs\u001b[0m\u001b[0;34m.\u001b[0m\u001b[0mappend\u001b[0m\u001b[0;34m(\u001b[0m\u001b[0mres\u001b[0m\u001b[0;34m)\u001b[0m\u001b[0;34m\u001b[0m\u001b[0;34m\u001b[0m\u001b[0m\n",
      "\u001b[0;32m~/Desktop/College Work/Fourth Year/L48/GroupProject/tti/tti_explorer/contacts.py\u001b[0m in \u001b[0;36m__call__\u001b[0;34m(self, case, double_dose, vaccine_strategy, vaccine_efficacy, home_sar, work_sar, other_sar, asymp_factor, period)\u001b[0m\n\u001b[1;32m    327\u001b[0m                 \u001b[0;32mpass\u001b[0m\u001b[0;34m\u001b[0m\u001b[0;34m\u001b[0m\u001b[0m\n\u001b[1;32m    328\u001b[0m             \u001b[0;32melse\u001b[0m\u001b[0;34m:\u001b[0m\u001b[0;34m\u001b[0m\u001b[0;34m\u001b[0m\u001b[0m\n\u001b[0;32m--> 329\u001b[0;31m                 \u001b[0mv\u001b[0m \u001b[0;34m=\u001b[0m \u001b[0;34m[\u001b[0m\u001b[0mdeath_rates_by_categories\u001b[0m\u001b[0;34m[\u001b[0m\u001b[0mcase\u001b[0m\u001b[0;34m.\u001b[0m\u001b[0mcategory\u001b[0m\u001b[0;34m]\u001b[0m\u001b[0;34m,\u001b[0m \u001b[0mnp\u001b[0m\u001b[0;34m.\u001b[0m\u001b[0mdot\u001b[0m\u001b[0;34m(\u001b[0m\u001b[0mdeath_rates_by_categories\u001b[0m\u001b[0;34m,\u001b[0m \u001b[0mp_home\u001b[0m\u001b[0;34m)\u001b[0m\u001b[0;34m,\u001b[0m \u001b[0mnp\u001b[0m\u001b[0;34m.\u001b[0m\u001b[0mdot\u001b[0m\u001b[0;34m(\u001b[0m\u001b[0mdeath_rates_by_categories\u001b[0m\u001b[0;34m,\u001b[0m \u001b[0mp_work\u001b[0m\u001b[0;34m)\u001b[0m\u001b[0;34m,\u001b[0m \u001b[0mnp\u001b[0m\u001b[0;34m.\u001b[0m\u001b[0mdot\u001b[0m\u001b[0;34m(\u001b[0m\u001b[0mdeath_rates_by_categories\u001b[0m\u001b[0;34m,\u001b[0m \u001b[0mp_other\u001b[0m\u001b[0;34m)\u001b[0m\u001b[0;34m]\u001b[0m\u001b[0;34m\u001b[0m\u001b[0;34m\u001b[0m\u001b[0m\n\u001b[0m\u001b[1;32m    330\u001b[0m                 \u001b[0mv2\u001b[0m \u001b[0;34m=\u001b[0m \u001b[0;34m[\u001b[0m\u001b[0;36m1\u001b[0m\u001b[0;34m/\u001b[0m\u001b[0mtotal\u001b[0m\u001b[0;34m,\u001b[0m \u001b[0mh_number_of_cases\u001b[0m\u001b[0;34m/\u001b[0m\u001b[0mtotal\u001b[0m\u001b[0;34m,\u001b[0m \u001b[0mw_number_of_cases\u001b[0m\u001b[0;34m/\u001b[0m\u001b[0mtotal\u001b[0m\u001b[0;34m,\u001b[0m \u001b[0mo_number_of_cases\u001b[0m\u001b[0;34m/\u001b[0m\u001b[0mtotal\u001b[0m\u001b[0;34m]\u001b[0m\u001b[0;34m\u001b[0m\u001b[0;34m\u001b[0m\u001b[0m\n\u001b[1;32m    331\u001b[0m                 \u001b[0mdeath_rate\u001b[0m \u001b[0;34m=\u001b[0m \u001b[0mnp\u001b[0m\u001b[0;34m.\u001b[0m\u001b[0mdot\u001b[0m\u001b[0;34m(\u001b[0m\u001b[0mv\u001b[0m\u001b[0;34m,\u001b[0m \u001b[0mv2\u001b[0m\u001b[0;34m)\u001b[0m\u001b[0;34m\u001b[0m\u001b[0;34m\u001b[0m\u001b[0m\n",
      "\u001b[0;32m<__array_function__ internals>\u001b[0m in \u001b[0;36mdot\u001b[0;34m(*args, **kwargs)\u001b[0m\n",
      "\u001b[0;31mKeyboardInterrupt\u001b[0m: "
     ]
    }
   ],
   "source": [
    "# vaccine efficacy\n",
    "vaccine_strategy = 'all'\n",
    "#Vaccine strategies are: none, all, gov, young_inc_children, \n",
    "#                        young_exc_children\n",
    "\n",
    "base_r_rates = []\n",
    "effective_r_rates = []\n",
    "av_mortality_rates = []\n",
    "to_show = [\n",
    "    RETURN_KEYS.base_r,\n",
    "    RETURN_KEYS.reduced_r\n",
    "]\n",
    "\n",
    "for vaccine_efficacy in tqdm(np.linspace(0.2,1,100)):\n",
    "    n_seperate_starting_cases = 10\n",
    "    n_repetitions = 1\n",
    "    outputs = list()\n",
    "    death_rates = []\n",
    "    \n",
    "    for i in range(n_seperate_starting_cases):\n",
    "        old_probs = []\n",
    "        for i in range(n_repetitions):\n",
    "            case = simulate_case(rng, p_for_categories_continued=old_probs, **case_config)\n",
    "            case_factors = CaseFactors.simulate_from(rng, case, **factor_config)\n",
    "            (contacts, old_probs, death_rate) = simulate_contacts(case, False, vaccine_strategy, vaccine_efficacy, **contacts_config)\n",
    "            res = tti_model(case, contacts, case_factors)\n",
    "            outputs.append(res)\n",
    "            death_rates.append(death_rate)\n",
    "            \n",
    "\n",
    "\n",
    "    x = pd.DataFrame(outputs).mean(0).loc[to_show].to_frame().to_numpy().flatten()\n",
    "    base_r_rates.append(x[0])\n",
    "    effective_r_rates.append(x[1])\n",
    "    relevant_death_rate_sum = sum(n for n in death_rates if n != -1)\n",
    "    relevant_death_rate_count = sum(1 for n in death_rates if n != -1)\n",
    "    if(relevant_death_rate_count == 0):\n",
    "        dr = 0\n",
    "    else:\n",
    "        dr = relevant_death_rate_sum / relevant_death_rate_count\n",
    "    av_mortality_rates.append(dr)\n",
    "\n",
    "with open('results/efficacy_br.pkl', 'wb+') as f:\n",
    "    pickle.dump(base_r_rates, f)\n",
    "    \n",
    "with open('results/efficacy_er.pkl', 'wb+') as f:\n",
    "    pickle.dump(effective_r_rates, f)\n",
    "    \n",
    "with open('results/efficacy_dr.pkl', 'wb+') as f:\n",
    "    pickle.dump(av_mortality_rates, f)"
   ]
  },
  {
   "cell_type": "code",
   "execution_count": 18,
   "metadata": {},
   "outputs": [
    {
     "data": {
      "image/png": "[encoded data removed]",
      "text/plain": [
       "<Figure size 432x288 with 2 Axes>"
      ]
     },
     "metadata": {
      "needs_background": "light"
     },
     "output_type": "display_data"
    },
    {
     "data": {
      "text/plain": [
       "<Figure size 432x288 with 0 Axes>"
      ]
     },
     "metadata": {},
     "output_type": "display_data"
    }
   ],
   "source": [
    "fig, ax = plt.subplots()\n",
    "ax.plot(np.linspace(0.4,1,100), base_r_rates, color = \"red\", label=\"Base R Rates\")\n",
    "ax.plot(np.linspace(0.4,1,100), effective_r_rates, color = \"orange\", label=\"Effective R Rates\")\n",
    "ax.set_xlabel(\"Vaccine Efficacy\")\n",
    "ax.set_ylabel(\"R rate\")\n",
    "ax2 = ax.twinx()  \n",
    "ax2.set_ylabel(\"Mortality Rate\")\n",
    "ax2.plot(np.linspace(0.4,1,100), av_mortality_rates, color = \"blue\", label=\"Mortality Rates\")\n",
    "ax2.set_ylim(0, 0.1)\n",
    "fig.tight_layout() \n",
    "plt.figure()\n",
    "plt.show()\n"
   ]
  },
  {
   "cell_type": "code",
   "execution_count": 27,
   "metadata": {},
   "outputs": [
    {
     "name": "stdout",
     "output_type": "stream",
     "text": [
      "\n",
      "CONFIG: (Double Dose: True, Strategy: none)\n",
      "\n",
      "Base R Rate: 4.08\n",
      "\n",
      "Effective R Rate: 1.02\n",
      "\n",
      "Mortality Rate: 0.0379\n",
      "\n",
      "\n",
      "\n",
      "CONFIG: (Double Dose: True, Strategy: all)\n",
      "\n",
      "Base R Rate: 0.97\n",
      "\n",
      "Effective R Rate: 0.38\n",
      "\n",
      "Mortality Rate: 0.0403\n",
      "\n",
      "\n",
      "\n",
      "CONFIG: (Double Dose: True, Strategy: gov)\n",
      "\n",
      "Base R Rate: 3.83\n",
      "\n",
      "Effective R Rate: 1.14\n",
      "\n",
      "Mortality Rate: 0.0373\n",
      "\n",
      "\n",
      "\n",
      "CONFIG: (Double Dose: True, Strategy: young_inc_children)\n",
      "\n",
      "Base R Rate: 3.11\n",
      "\n",
      "Effective R Rate: 0.92\n",
      "\n",
      "Mortality Rate: 0.0406\n",
      "\n",
      "\n",
      "\n",
      "CONFIG: (Double Dose: True, Strategy: young_exc_children)\n",
      "\n",
      "Base R Rate: 4.15\n",
      "\n",
      "Effective R Rate: 1.33\n",
      "\n",
      "Mortality Rate: 0.0409\n",
      "\n",
      "\n",
      "\n",
      "CONFIG: (Double Dose: False, Strategy: none)\n",
      "\n",
      "Base R Rate: 3.75\n",
      "\n",
      "Effective R Rate: 1.15\n",
      "\n",
      "Mortality Rate: 0.0375\n",
      "\n",
      "\n",
      "\n",
      "CONFIG: (Double Dose: False, Strategy: all)\n",
      "\n",
      "Base R Rate: 1.35\n",
      "\n",
      "Effective R Rate: 0.49\n",
      "\n",
      "Mortality Rate: 0.0356\n",
      "\n",
      "\n",
      "\n",
      "CONFIG: (Double Dose: False, Strategy: gov)\n",
      "\n",
      "Base R Rate: 3.31\n",
      "\n",
      "Effective R Rate: 1.02\n",
      "\n",
      "Mortality Rate: 0.0389\n",
      "\n",
      "\n",
      "\n",
      "CONFIG: (Double Dose: False, Strategy: young_inc_children)\n",
      "\n",
      "Base R Rate: 3.08\n",
      "\n",
      "Effective R Rate: 0.87\n",
      "\n",
      "Mortality Rate: 0.0352\n",
      "\n",
      "\n",
      "\n",
      "CONFIG: (Double Dose: False, Strategy: young_exc_children)\n",
      "\n",
      "Base R Rate: 3.82\n",
      "\n",
      "Effective R Rate: 1.15\n",
      "\n",
      "Mortality Rate: 0.0399\n",
      "\n",
      "\n"
     ]
    }
   ],
   "source": [
    "configs = [(True, 'none'), (True, 'all'), (True, 'gov'), (True, 'young_inc_children'), (True, 'young_exc_children'),\n",
    "          (False, 'none'), (False, 'all'), (False, 'gov'), (False, 'young_inc_children'), (False, 'young_exc_children')]\n",
    "\n",
    "to_show = [\n",
    "    RETURN_KEYS.base_r,\n",
    "    RETURN_KEYS.reduced_r\n",
    "]\n",
    "\n",
    "f = open('results/vaccine_methods.txt', 'w+')\n",
    "\n",
    "for c in configs:\n",
    "    double_dose = c[0]\n",
    "    vaccine_strategy = c[1]\n",
    "    n_seperate_starting_cases = 100\n",
    "    n_repetitions = 10\n",
    "    outputs = list()\n",
    "    death_rates = []\n",
    "    \n",
    "    for i in range(n_seperate_starting_cases):\n",
    "        old_probs = []\n",
    "        for i in range(n_repetitions):\n",
    "            case = simulate_case(rng, p_for_categories_continued=old_probs, **case_config)\n",
    "            case_factors = CaseFactors.simulate_from(rng, case, **factor_config)\n",
    "            (contacts, old_probs, death_rate) = simulate_contacts(case, double_dose, vaccine_strategy, None, **contacts_config)\n",
    "            res = tti_model(case, contacts, case_factors)\n",
    "            outputs.append(res)\n",
    "            death_rates.append(death_rate)\n",
    "            \n",
    "\n",
    "\n",
    "    x = pd.DataFrame(outputs).mean(0).loc[to_show].to_frame().to_numpy().flatten()\n",
    "    print()\n",
    "    l1 = (\"CONFIG: (Double Dose: \" + str(c[0]) + \", Strategy: \" + str(c[1]) + \")\\n\")\n",
    "    l2 = (\"Base R Rate: \" + str(round(x[0], 2)) + \"\\n\")\n",
    "    l3 = (\"Effective R Rate: \" + str(round(x[1], 2)) + \"\\n\")\n",
    "    relevant_death_rate_sum = sum(n for n in death_rates if n != -1)\n",
    "    relevant_death_rate_count = sum(1 for n in death_rates if n != -1)\n",
    "    dr = relevant_death_rate_sum / relevant_death_rate_count\n",
    "    l4 = (\"Mortality Rate: \" + str(round(dr, 4)) + \"\\n\\n\")\n",
    "    \n",
    "    f.writelines([l1, l2, l3, l4])\n",
    "    print(l1)\n",
    "    print(l2)\n",
    "    print(l3)\n",
    "    print(l4)\n",
    "\n",
    "f.close()"
   ]
  },
  {
   "cell_type": "code",
   "execution_count": null,
   "metadata": {},
   "outputs": [],
   "source": []
  }
 ],
 "metadata": {
  "kernelspec": {
   "display_name": "Python 3",
   "language": "python",
   "name": "python3"
  },
  "language_info": {
   "codemirror_mode": {
    "name": "ipython",
    "version": 3
   },
   "file_extension": ".py",
   "mimetype": "text/x-python",
   "name": "python",
   "nbconvert_exporter": "python",
   "pygments_lexer": "ipython3",
   "version": "3.8.6"
  }
 },
 "nbformat": 4,
 "nbformat_minor": 4
}
