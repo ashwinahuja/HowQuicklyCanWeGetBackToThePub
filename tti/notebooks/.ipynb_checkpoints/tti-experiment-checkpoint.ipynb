{
 "cells": [
  {
   "cell_type": "markdown",
   "metadata": {
    "colab_type": "text",
    "id": "view-in-github"
   },
   "source": [
    "<a href=\"https://colab.research.google.com/github/rs-delve/tti-explorer/blob/master/notebooks/tti-experiment.ipynb\" target=\"_parent\"><img src=\"https://colab.research.google.com/assets/colab-badge.svg\" alt=\"Open In Colab\"/></a>"
   ]
  },
  {
   "cell_type": "markdown",
   "metadata": {
    "colab_type": "text",
    "id": "lkWq4rfC-iJY"
   },
   "source": [
    "# TTI Explorer\n",
    "\n",
    "#### `tti_explorer` is a library for simulating infection spread. This library is built to explore the impact of various test-trace-isolate strategies and social distancing measures on the spread of COVID-19 in the UK. \n",
    "\n",
    "This notebook is an introduction to the functionality offered by `tti-explorer`. "
   ]
  },
  {
   "cell_type": "code",
   "execution_count": 12,
   "metadata": {
    "colab": {
     "base_uri": "https://localhost:8080/",
     "height": 177
    },
    "colab_type": "code",
    "id": "Gueu2F7t-iJa",
    "outputId": "6faf04fc-3145-4e19-945e-873d2564070d"
   },
   "outputs": [
    {
     "name": "stdout",
     "output_type": "stream",
     "text": [
      "/Users/ashwin/Desktop/College Work/Fourth Year/L48/L48Project/tti-explorer\n",
      "README.md         \u001b[34moutputs\u001b[m\u001b[m/          setup.py          \u001b[34mtti_explorer\u001b[m\u001b[m/\r\n",
      "\u001b[34mdata\u001b[m\u001b[m/             requirements.txt  \u001b[34mtests\u001b[m\u001b[m/\r\n",
      "\u001b[34mnotebooks\u001b[m\u001b[m/        \u001b[34mscripts\u001b[m\u001b[m/          todo.md\r\n"
     ]
    }
   ],
   "source": [
    "%cd ../tti_explorer\n",
    "%ls\n"
   ]
  },
  {
   "cell_type": "code",
   "execution_count": 9,
   "metadata": {
    "colab": {},
    "colab_type": "code",
    "id": "NpdHVFb8-iJg"
   },
   "outputs": [],
   "source": [
    "import os\n",
    "\n",
    "import numpy as np\n",
    "import pandas as pd\n",
    "from tqdm.notebook import trange\n",
    "from tqdm import tqdm\n",
    "\n",
    "from tti_explorer import config, utils\n",
    "from tti_explorer.case import simulate_case, CaseFactors\n",
    "from tti_explorer.contacts import EmpiricalContactsSimulator\n",
    "from tti_explorer.strategies import TTIFlowModel, RETURN_KEYS"
   ]
  },
  {
   "cell_type": "code",
   "execution_count": 2,
   "metadata": {
    "colab": {},
    "colab_type": "code",
    "id": "Urj9DevH-iJm"
   },
   "outputs": [],
   "source": [
    "def print_doc(func):\n",
    "    print(func.__doc__)"
   ]
  },
  {
   "cell_type": "markdown",
   "metadata": {
    "colab_type": "text",
    "id": "4HvkUNme-iJs"
   },
   "source": [
    "Before we do anything, let's make a random state"
   ]
  },
  {
   "cell_type": "code",
   "execution_count": 3,
   "metadata": {
    "colab": {},
    "colab_type": "code",
    "id": "mXAzaO71-iJt"
   },
   "outputs": [],
   "source": [
    "rng = np.random.RandomState(0)"
   ]
  },
  {
   "cell_type": "markdown",
   "metadata": {
    "colab_type": "text",
    "id": "YP7_GmZa-iJz"
   },
   "source": [
    "We will first do a short tour of the functionality, then show how this is put together to generate simulation results."
   ]
  },
  {
   "cell_type": "markdown",
   "metadata": {
    "colab_type": "text",
    "id": "0aI9KvRh-iJ1"
   },
   "source": [
    "## Generate a case"
   ]
  },
  {
   "cell_type": "markdown",
   "metadata": {
    "colab_type": "text",
    "id": "Bkawbjo0-iJ3"
   },
   "source": [
    "The function we use for this is `simulate_case` in `case.py`"
   ]
  },
  {
   "cell_type": "code",
   "execution_count": 5,
   "metadata": {
    "colab": {
     "base_uri": "https://localhost:8080/",
     "height": 284
    },
    "colab_type": "code",
    "id": "X7XX2SSC-iJ4",
    "outputId": "38eebb74-da43-4717-e204-fcc81e1b10f9"
   },
   "outputs": [
    {
     "name": "stdout",
     "output_type": "stream",
     "text": [
      "simulate_case\n",
      "\n",
      "    Args:\n",
      "        rng (np.random.RandomState): random number generator.\n",
      "        p_under18 (float): Probability of case being under 18\n",
      "        infection_proportions (dict): Probs of being symp covid neg, symp covid pos, asymp covid pos\n",
      "                                      The only required key is 'dist', which contains list of the named probs, in that order.\n",
      "        p_day_noticed_symptoms (np.array[float]): Distribution of day on which case notices\n",
      "            their symptoms. (In our model this is same as reporting symptoms.)\n",
      "            Conditional on being symptomatic.\n",
      "        inf_profile (list[float]): Distribution of initial exposure of positive secondary cases\n",
      "            relative to start of primary case's infectious period.\n",
      "\n",
      "    Returns (Case): case with attributes populated.\n",
      "    \n"
     ]
    }
   ],
   "source": [
    "print_doc(simulate_case)"
   ]
  },
  {
   "cell_type": "markdown",
   "metadata": {
    "colab_type": "text",
    "id": "x1f4-ukS-iJ-"
   },
   "source": [
    "We store our config values in `config.py`. You can retrieve them as follows"
   ]
  },
  {
   "cell_type": "code",
   "execution_count": 10,
   "metadata": {
    "colab": {
     "base_uri": "https://localhost:8080/",
     "height": 35
    },
    "colab_type": "code",
    "id": "xy1a6n-L-iJ_",
    "outputId": "20e10421-c1e4-42eb-968b-b63d41dafb0f"
   },
   "outputs": [
    {
     "data": {
      "text/plain": [
       "{'p_under18': 0.21,\n",
       " 'infection_proportions': {'dist': [0.8333333333333334,\n",
       "   0.1,\n",
       "   0.06666666666666667],\n",
       "  'nppl': 120},\n",
       " 'p_day_noticed_symptoms': [0,\n",
       "  0.25,\n",
       "  0.25,\n",
       "  0.2,\n",
       "  0.1,\n",
       "  0.05,\n",
       "  0.05,\n",
       "  0.05,\n",
       "  0.05,\n",
       "  0.0],\n",
       " 'inf_profile': [0.046966101377360424,\n",
       "  0.15602255610429985,\n",
       "  0.19829974712514023,\n",
       "  0.18356485224565827,\n",
       "  0.14541407040442172,\n",
       "  0.10500447388376151,\n",
       "  0.07130993362939089,\n",
       "  0.04635772205156416,\n",
       "  0.029167894888682697,\n",
       "  0.017892648289720214]}"
      ]
     },
     "execution_count": 10,
     "metadata": {},
     "output_type": "execute_result"
    }
   ],
   "source": [
    "case_config = config.get_case_config(\"delve\")\n",
    "case_config\n"
   ]
  },
  {
   "cell_type": "markdown",
   "metadata": {
    "colab_type": "text",
    "id": "7QuUONtl-iKG"
   },
   "source": [
    "We use these parameters to simulate a case"
   ]
  },
  {
   "cell_type": "code",
   "execution_count": 11,
   "metadata": {
    "colab": {
     "base_uri": "https://localhost:8080/",
     "height": 35
    },
    "colab_type": "code",
    "id": "aeaWtT37-iKI",
    "outputId": "6a4f5db0-81a0-4724-8efc-de8542d69a56"
   },
   "outputs": [
    {
     "name": "stdout",
     "output_type": "stream",
     "text": [
      "Case(under18: bool, covid: bool, symptomatic: bool, day_noticed_symptoms: int, inf_profile: list)\n"
     ]
    }
   ],
   "source": [
    "primary_case = simulate_case(rng, **case_config)\n",
    "print_doc(primary_case)"
   ]
  },
  {
   "cell_type": "markdown",
   "metadata": {
    "colab_type": "text",
    "id": "2Lswz_d3-iKN"
   },
   "source": [
    "Returned is a `case.Case` with stochastically generated attributes."
   ]
  },
  {
   "cell_type": "markdown",
   "metadata": {
    "colab_type": "text",
    "id": "tjhfcTc_-iKO"
   },
   "source": [
    "### Deeper: Case attributes"
   ]
  },
  {
   "cell_type": "markdown",
   "metadata": {
    "colab_type": "text",
    "id": "STVrvMy4-iKP"
   },
   "source": [
    "Let's go through the simulated attributes of a `case.Case`. The attributes `.under18`, `.covid` and `.symptomatic` are `bool` types indicating whether the generated `case.Case` is under 18, COVID positive and symptomatic respectively. All possible values of these attributes are possible apart from the combination `.covid = False` and `.symptomatic = False` (a configuration irrelevant for the purpose of simulating infection spread). The primary case we just simulated has the following attributes:"
   ]
  },
  {
   "cell_type": "code",
   "execution_count": 0,
   "metadata": {
    "colab": {
     "base_uri": "https://localhost:8080/"
    },
    "colab_type": "code",
    "id": "EjMXN3P8-iKQ",
    "outputId": "bb7d7403-c5fa-4e86-bef8-42ba2489c16e"
   },
   "outputs": [
    {
     "name": "stdout",
     "output_type": "stream",
     "text": [
      "Under 18: False.\n",
      "COVID positive: False.\n",
      "Symptomatic: True.\n"
     ]
    }
   ],
   "source": [
    "print(f'Under 18: {primary_case.under18}.')\n",
    "print(f'COVID positive: {primary_case.covid}.')\n",
    "print(f'Symptomatic: {primary_case.symptomatic}.')"
   ]
  },
  {
   "cell_type": "markdown",
   "metadata": {
    "colab_type": "text",
    "id": "k-6UaDLH-iKW"
   },
   "source": [
    "Each `case.Case` also has an attribute `.day_noticed_symptoms` of type `int`, indicating the number of days from start of infectiousness until the `case.Case` noticed the symptoms. If a `case.Case` is asymptomatic, the attribute `.day_noticed_symptoms` is set to `-1`."
   ]
  },
  {
   "cell_type": "code",
   "execution_count": 0,
   "metadata": {
    "colab": {
     "base_uri": "https://localhost:8080/"
    },
    "colab_type": "code",
    "id": "8H0yDHsY-iKX",
    "outputId": "8cb10ae4-68b5-4a90-fdca-93713e0e1d7d"
   },
   "outputs": [
    {
     "name": "stdout",
     "output_type": "stream",
     "text": [
      "primary_case noticed symptoms 3 days after start of infectiousness.\n"
     ]
    }
   ],
   "source": [
    "print(f'primary_case noticed symptoms {primary_case.day_noticed_symptoms} days after start of infectiousness.')"
   ]
  },
  {
   "cell_type": "markdown",
   "metadata": {
    "colab_type": "text",
    "id": "9ftPrOg2-iKc"
   },
   "source": [
    "Finally, the attribute `.inf_profile` is a `list` describing the relative infectiousness of the case for each day of the infectious period. If `.covid = False` for a `case.Case`, this is `0` throughout."
   ]
  },
  {
   "cell_type": "code",
   "execution_count": 0,
   "metadata": {
    "colab": {
     "base_uri": "https://localhost:8080/"
    },
    "colab_type": "code",
    "id": "OFGmsTnf-iKe",
    "outputId": "baed651d-2a4f-44f7-9a28-d5e54bca72d1"
   },
   "outputs": [
    {
     "name": "stdout",
     "output_type": "stream",
     "text": [
      "inf_profile is: [0. 0. 0. 0. 0. 0. 0. 0. 0. 0.]\n"
     ]
    }
   ],
   "source": [
    "print(f'inf_profile is: {primary_case.inf_profile}')"
   ]
  },
  {
   "cell_type": "markdown",
   "metadata": {
    "colab_type": "text",
    "id": "ARM69hup-iKi"
   },
   "source": [
    "As mentioned above, the configuration for simulating these attributes are stored in `config.py`. This includes the distributions used for sampling attributes. For instance, the attribute `.under18` is sampled from a Bernoulli distribution with probability `0.21`: "
   ]
  },
  {
   "cell_type": "code",
   "execution_count": 0,
   "metadata": {
    "colab": {
     "base_uri": "https://localhost:8080/"
    },
    "colab_type": "code",
    "id": "x7IvyV4Q-iKj",
    "outputId": "f99fd864-ee98-4b2a-9e19-ed13d8eaaa75"
   },
   "outputs": [
    {
     "name": "stdout",
     "output_type": "stream",
     "text": [
      "Probability of case being under 18: 0.21\n"
     ]
    }
   ],
   "source": [
    "print(f'Probability of case being under 18: {case_config[\"p_under18\"]}')"
   ]
  },
  {
   "cell_type": "markdown",
   "metadata": {
    "colab_type": "text",
    "id": "QD5teyxW-iKq"
   },
   "source": [
    "As another example, if `case.Case` is symptomatic, the attribute `.days_noticed_symptoms` is sampled from a categorical distribution over the set {0, 1, ..., 9} (since we model an infection period of ten days in this configuration) with probabilities:"
   ]
  },
  {
   "cell_type": "code",
   "execution_count": 0,
   "metadata": {
    "colab": {
     "base_uri": "https://localhost:8080/"
    },
    "colab_type": "code",
    "id": "g4AqYRFn-iKq",
    "outputId": "03c07411-001e-49b3-c6b5-7216d34991f8"
   },
   "outputs": [
    {
     "name": "stdout",
     "output_type": "stream",
     "text": [
      "Probability distribution of .day_noticed_symptoms: [0, 0.25, 0.25, 0.2, 0.1, 0.05, 0.05, 0.05, 0.05, 0.0]\n"
     ]
    }
   ],
   "source": [
    "print(f'Probability distribution of .day_noticed_symptoms: {case_config[\"p_day_noticed_symptoms\"]}')"
   ]
  },
  {
   "cell_type": "markdown",
   "metadata": {
    "colab_type": "text",
    "id": "mi5sZLb1-iKu"
   },
   "source": [
    "## Generate contacts\n",
    "Social contacts are represented by `Contacts` and defined in `contacts.py`.\n",
    "\n",
    "To simulate social contacts, we use the BBC Pandemic Dataset. This is stratified as over/under 18 to give different patterns of social contact depending on the age of the case. "
   ]
  },
  {
   "cell_type": "code",
   "execution_count": 4,
   "metadata": {
    "colab": {},
    "colab_type": "code",
    "id": "EwLuHzoR-iKv"
   },
   "outputs": [],
   "source": [
    "def load_csv(pth):\n",
    "    return np.loadtxt(pth, dtype=int, skiprows=1, delimiter=\",\")"
   ]
  },
  {
   "cell_type": "code",
   "execution_count": 6,
   "metadata": {
    "colab": {},
    "colab_type": "code",
    "id": "fk-L4-p4-iKz"
   },
   "outputs": [],
   "source": [
    "path_to_bbc_data = os.path.join(\"..\", \"data\", \"bbc-pandemic\")\n",
    "\n",
    "over18 = load_csv(os.path.join(path_to_bbc_data, \"contact_distributions_o18.csv\"))\n",
    "under18 = load_csv(os.path.join(path_to_bbc_data, \"contact_distributions_u18.csv\"))"
   ]
  },
  {
   "cell_type": "markdown",
   "metadata": {
    "colab_type": "text",
    "id": "dpd3dKr2-iK3"
   },
   "source": [
    "Now that we have the data loaded, we use `EmpiricalContactsSimulator` to sample these tables for contacts of the primary case, then simulate their infection under a no measures scenario (i.e. no government intervention)"
   ]
  },
  {
   "cell_type": "code",
   "execution_count": 0,
   "metadata": {
    "colab": {
     "base_uri": "https://localhost:8080/",
     "height": 212
    },
    "colab_type": "code",
    "id": "8hnlv_FQ-iK3",
    "outputId": "bcd3d268-b85d-4bc3-e754-bb109739132c"
   },
   "outputs": [
    {
     "name": "stdout",
     "output_type": "stream",
     "text": [
      "Simulate social contact using the BBC Pandemic dataset\n",
      "\n",
      "            Each row in input arrays consists of three numbers,\n",
      "            represeting number of contacts at: home, work, other\n",
      "\n",
      "        Args:\n",
      "            over18 (np.array[int], Nx3): Contact data for over 18s.\n",
      "            under18 (np.array[int], Nx3): Contact data for under 18s.\n",
      "            rng (np.random.RandomState): Random state.\n",
      "\n",
      "        \n"
     ]
    }
   ],
   "source": [
    "print_doc(EmpiricalContactsSimulator.__init__)"
   ]
  },
  {
   "cell_type": "code",
   "execution_count": 0,
   "metadata": {
    "colab": {},
    "colab_type": "code",
    "id": "zulga5xM-iK9"
   },
   "outputs": [],
   "source": [
    "simulate_contacts = EmpiricalContactsSimulator(over18, under18, rng)"
   ]
  },
  {
   "cell_type": "markdown",
   "metadata": {
    "colab_type": "text",
    "id": "EV3l7FDD-iLB"
   },
   "source": [
    "We can now use the callable `simulate_contacts` to simulate social contacts of the primary case"
   ]
  },
  {
   "cell_type": "code",
   "execution_count": 0,
   "metadata": {
    "colab": {
     "base_uri": "https://localhost:8080/",
     "height": 408
    },
    "colab_type": "code",
    "id": "lOKgPWvj-iLC",
    "outputId": "dbeafdf4-7f49-4a83-dfdb-be75036e63f8"
   },
   "outputs": [
    {
     "name": "stdout",
     "output_type": "stream",
     "text": [
      "Generate a social contact for the given case.\n",
      "\n",
      "        A row from the table corresponding to the age of the `case` is sampled\n",
      "        uniformly at random. A contact is generated with daily contacts as\n",
      "        given by that row. These contacts are infected at random with attack rates\n",
      "        given by the SARs and whether or not the `case` is symptomatic. If the\n",
      "        `case` is COVID negative, then no contacts are infected.\n",
      "\n",
      "        Args:\n",
      "            case (Case): Primary case.\n",
      "            home_sar (float): Secondary attack rate for household contacts.\n",
      "                              (Marginal probability of infection over the whole simulation)\n",
      "            work_sar (float): Secondary attack rate for contacts in the work category.\n",
      "            other_sar (float): Secondary attack rate for contacts in the other category.\n",
      "            asymp_factor (float): Factor by which to multiply the probabilty of secondary\n",
      "                                  infection if `case` is asymptomatic COVID positive.\n",
      "            period (int): Duration of the simulation (days).\n",
      "\n",
      "        Returns:\n",
      "            contacts (Contacts): Simulated social contacts and resulting infections\n",
      "            for primary case `case`.\n",
      "        \n"
     ]
    }
   ],
   "source": [
    "print_doc(simulate_contacts.__call__)"
   ]
  },
  {
   "cell_type": "markdown",
   "metadata": {
    "colab_type": "text",
    "id": "26bB_DIF-iLH"
   },
   "source": [
    "To do this we need some more parameters, which we also load from `config.py`. The user can, of course, specify this themselves if they would like."
   ]
  },
  {
   "cell_type": "code",
   "execution_count": 0,
   "metadata": {
    "colab": {},
    "colab_type": "code",
    "id": "QT_eFKGF-iLH"
   },
   "outputs": [],
   "source": [
    "contacts_config = config.get_contacts_config(\"delve\")"
   ]
  },
  {
   "cell_type": "code",
   "execution_count": 0,
   "metadata": {
    "colab": {
     "base_uri": "https://localhost:8080/",
     "height": 35
    },
    "colab_type": "code",
    "id": "HO99mVqb-iLL",
    "outputId": "b2cfc8f7-78fa-412e-c2c2-720fdf5eec8c"
   },
   "outputs": [
    {
     "data": {
      "text/plain": [
       "dict_keys(['home_sar', 'work_sar', 'other_sar', 'period', 'asymp_factor'])"
      ]
     },
     "execution_count": 23,
     "metadata": {
      "tags": []
     },
     "output_type": "execute_result"
    }
   ],
   "source": [
    "contacts_config.keys()"
   ]
  },
  {
   "cell_type": "markdown",
   "metadata": {
    "colab_type": "text",
    "id": "3uJr5S9E-iLP"
   },
   "source": [
    "We now do the same as we did with when simulating a primary case."
   ]
  },
  {
   "cell_type": "code",
   "execution_count": 0,
   "metadata": {
    "colab": {
     "base_uri": "https://localhost:8080/",
     "height": 35
    },
    "colab_type": "code",
    "id": "r6JjQgeH-iLP",
    "outputId": "982ae3be-8c4a-43cf-bf20-f85a8111df79"
   },
   "outputs": [
    {
     "name": "stdout",
     "output_type": "stream",
     "text": [
      "Contacts(n_daily:dict, home:<built-in function array>, work:<built-in function array>, other:<built-in function array>)\n"
     ]
    }
   ],
   "source": [
    "social_contacts = simulate_contacts(primary_case, **contacts_config)\n",
    "print_doc(social_contacts)"
   ]
  },
  {
   "cell_type": "markdown",
   "metadata": {
    "colab_type": "text",
    "id": "qYxZdoRe-iLT"
   },
   "source": [
    "### Deeper: Contacts attributes"
   ]
  },
  {
   "cell_type": "markdown",
   "metadata": {
    "colab_type": "text",
    "id": "sNcVv69A-iLU"
   },
   "source": [
    "Let's examine the attributes of `social_contacts`, which is an instance of `contacts.Contacts`. Note that `social_contacts` is simulated above by calling `simulate_contacts` which takes `primary_case` as in argument, so contact generation of course depends on the case simulated first. "
   ]
  },
  {
   "cell_type": "markdown",
   "metadata": {
    "colab_type": "text",
    "id": "ZLByc1_w-iLU"
   },
   "source": [
    "The first attribute to note is `.n_daily`, which is a `dict` containing the average number of daily contacts (split into three categories) of the case. This is simulated by sampling one row of the tables `over18` or `under18` depending on the value of `primary_case.under18`. In the case of `primary_case`, we can look at `social_contacts.n_daily`:"
   ]
  },
  {
   "cell_type": "code",
   "execution_count": 0,
   "metadata": {
    "colab": {
     "base_uri": "https://localhost:8080/"
    },
    "colab_type": "code",
    "id": "KqQWkYwk-iLV",
    "outputId": "cd1e9fa7-9654-49e4-826f-c4c28b915056"
   },
   "outputs": [
    {
     "name": "stdout",
     "output_type": "stream",
     "text": [
      "Average number of daily contacts for primary_case:\n",
      "Home: 7\n",
      "Work: 3\n",
      "Other: 4\n"
     ]
    }
   ],
   "source": [
    "print(f'Average number of daily contacts for primary_case:')\n",
    "print(f'Home: {social_contacts.n_daily[\"home\"]}')\n",
    "print(f'Work: {social_contacts.n_daily[\"work\"]}')\n",
    "print(f'Other: {social_contacts.n_daily[\"other\"]}')"
   ]
  },
  {
   "cell_type": "markdown",
   "metadata": {
    "colab_type": "text",
    "id": "ehBEkqcK-iLb"
   },
   "source": [
    "The three remaining attributes `.home`, `.work` and `.other` are arrays containing information about each contact made by the case, with one row per contact. More specifically, for each contact, the row contains the first day (always measured relative to the start of infectiousness) of encounter between the case and contact and, if transmission occurred, then the day of transmission. "
   ]
  },
  {
   "cell_type": "markdown",
   "metadata": {
    "colab_type": "text",
    "id": "It9Yy7e0-iLc"
   },
   "source": [
    "Also, recall that home contacts are assumed to repeat every day of the infectious period, whereas work/other contacts are new for each day. This means the lengths of the arrays `.work` and `.other` are `10 * .n_daily['work']` and `10 * .n_daily['other']` respectively (recalling the infection period is assumed to last ten days, a parameter set in `contacts_config['period']`). Whereas, the length of the `.home` array is just `.n_daily['home']`."
   ]
  },
  {
   "cell_type": "code",
   "execution_count": 0,
   "metadata": {
    "colab": {
     "base_uri": "https://localhost:8080/"
    },
    "colab_type": "code",
    "id": "mohBnur_-iLc",
    "outputId": "423a85a4-a308-4e9f-8d80-9871037c36fc"
   },
   "outputs": [
    {
     "name": "stdout",
     "output_type": "stream",
     "text": [
      "Lengths of .home, .work and .other attributes:\n",
      "Home: 7\n",
      "Work: 30\n",
      "Other: 40\n"
     ]
    }
   ],
   "source": [
    "print(f'Lengths of .home, .work and .other attributes:')\n",
    "print(f'Home: {len(social_contacts.home)}')\n",
    "print(f'Work: {len(social_contacts.work)}')\n",
    "print(f'Other: {len(social_contacts.other)}')"
   ]
  },
  {
   "cell_type": "markdown",
   "metadata": {
    "colab_type": "text",
    "id": "auRvAcwg-iLg"
   },
   "source": [
    "Digging further into the array, each row contains two integers. The first integer indicates the day of transmission, which is set to `-1` if no transmission occurred. The second integer contains the day of first encounter. So for instance, looking at one of the home contacts, we see transmission didn't occur and the day of first encounter is `0`, i.e. the first day of the infection period:"
   ]
  },
  {
   "cell_type": "code",
   "execution_count": 0,
   "metadata": {
    "colab": {
     "base_uri": "https://localhost:8080/"
    },
    "colab_type": "code",
    "id": "D4_ERBTw-iLg",
    "outputId": "dcd2e91b-5086-4a66-ebe7-99ff1c530948"
   },
   "outputs": [
    {
     "name": "stdout",
     "output_type": "stream",
     "text": [
      "[-1  0]\n"
     ]
    }
   ],
   "source": [
    "print(social_contacts.home[0])"
   ]
  },
  {
   "cell_type": "markdown",
   "metadata": {
    "colab_type": "text",
    "id": "zZ8X6g8z-iLj"
   },
   "source": [
    "Looking at the first six work contacts, we see none of them were infected either. This is consistent with the fact that `primary_case.covid = False` so no transmission can occur in this case."
   ]
  },
  {
   "cell_type": "code",
   "execution_count": 0,
   "metadata": {
    "colab": {
     "base_uri": "https://localhost:8080/"
    },
    "colab_type": "code",
    "id": "WZwDiYrB-iLk",
    "outputId": "e62edde6-7c89-466b-9015-b866b0277d3e"
   },
   "outputs": [
    {
     "name": "stdout",
     "output_type": "stream",
     "text": [
      "[[-1  0]\n",
      " [-1  0]\n",
      " [-1  0]\n",
      " [-1  1]\n",
      " [-1  1]\n",
      " [-1  1]]\n"
     ]
    }
   ],
   "source": [
    "print(social_contacts.work[:6])"
   ]
  },
  {
   "cell_type": "markdown",
   "metadata": {
    "colab_type": "text",
    "id": "vSEUV9D9-iLn"
   },
   "source": [
    "In simulations where `case.Case` is COVID positive, each contact may get infected and the probability of getting infected depends on parameters such as the secondary attack rates (SARs), all of which are set in `contacts_config`. For details on the precise simulation procedure used to generate `contacts.Contacts`, see either Appendix A of the report or the `__call__` method of `EmpiricalContactsSimulator`."
   ]
  },
  {
   "cell_type": "markdown",
   "metadata": {
    "colab_type": "text",
    "id": "7CmXXoii-iLo"
   },
   "source": [
    "## TTI Strategies"
   ]
  },
  {
   "cell_type": "markdown",
   "metadata": {
    "colab_type": "text",
    "id": "ponSUAl6-iLo"
   },
   "source": [
    "All of the information about the primary case's infection and how they infect their social contacts (under no government intervention) is now contained in `primary_case` and `social_contacts`.\n",
    "\n",
    "Now we run a simulation, which works as follows. We start by generating a large number of cases, each with associated contacts. Given a particular strategy (e.g. test-based TTI with NPI of stringency level S3), each case is passed through the strategy, which computes various metrics for the case. For example, it computes the number of secondary cases due to primary case (reproduction number) and the number of tests required. We then collect the results for each case and average them, returning the final evaluation of the strategy."
   ]
  },
  {
   "cell_type": "markdown",
   "metadata": {
    "colab_type": "text",
    "id": "BHB568_y-iLp"
   },
   "source": [
    "## Running a Simulation"
   ]
  },
  {
   "cell_type": "code",
   "execution_count": 7,
   "metadata": {
    "colab": {},
    "colab_type": "code",
    "id": "Ql0yp7H4-iLq"
   },
   "outputs": [],
   "source": [
    "from tti_explorer.strategies import TTIFlowModel"
   ]
  },
  {
   "cell_type": "markdown",
   "metadata": {
    "colab_type": "text",
    "id": "t8xUXOXV-iLt"
   },
   "source": [
    "We will analyse the `S3_test_based_TTI` strategy from our report. For clarity, we will show the whole process."
   ]
  },
  {
   "cell_type": "markdown",
   "metadata": {
    "colab_type": "text",
    "id": "CPvGkTFW-iLu"
   },
   "source": [
    "First get the configurations:"
   ]
  },
  {
   "cell_type": "code",
   "execution_count": 10,
   "metadata": {
    "colab": {},
    "colab_type": "code",
    "id": "dz1zBETF-iLu"
   },
   "outputs": [
    {
     "name": "stdout",
     "output_type": "stream",
     "text": [
      "{'p_under18': 0.21, 'infection_proportions': {'dist': [0.8333333333333334, 0.1, 0.06666666666666667], 'nppl': 120}, 'p_day_noticed_symptoms': [0, 0.25, 0.25, 0.2, 0.1, 0.05, 0.05, 0.05, 0.05, 0.0], 'inf_profile': [0.046966101377360424, 0.15602255610429985, 0.19829974712514023, 0.18356485224565827, 0.14541407040442172, 0.10500447388376151, 0.07130993362939089, 0.04635772205156416, 0.029167894888682697, 0.017892648289720214]}\n"
     ]
    }
   ],
   "source": [
    "name = 'S3_test_based_TTI'\n",
    "\n",
    "case_config = config.get_case_config(\"delve\")\n",
    "print(case_config)\n",
    "\n",
    "contacts_config = config.get_contacts_config(\"delve\")\n",
    "policy_config = config.get_strategy_configs(\"delve\", name)[name]\n",
    "factor_config = utils.get_sub_dictionary(policy_config, config.DELVE_CASE_FACTOR_KEYS)\n",
    "strategy_config = utils.get_sub_dictionary(policy_config, config.DELVE_STRATEGY_FACTOR_KEYS)"
   ]
  },
  {
   "cell_type": "markdown",
   "metadata": {
    "colab_type": "text",
    "id": "le8N86QT-iLx"
   },
   "source": [
    "Set a random state:"
   ]
  },
  {
   "cell_type": "code",
   "execution_count": 21,
   "metadata": {
    "colab": {},
    "colab_type": "code",
    "id": "f9LUG5IH-iLy"
   },
   "outputs": [],
   "source": [
    "rng = np.random.RandomState(42)"
   ]
  },
  {
   "cell_type": "markdown",
   "metadata": {
    "colab_type": "text",
    "id": "fOxJ84t3-iL1"
   },
   "source": [
    "Make contact simulator:"
   ]
  },
  {
   "cell_type": "code",
   "execution_count": 22,
   "metadata": {
    "colab": {},
    "colab_type": "code",
    "id": "cr92iit4-iL2"
   },
   "outputs": [],
   "source": [
    "simulate_contacts = EmpiricalContactsSimulator(over18, under18, rng)"
   ]
  },
  {
   "cell_type": "markdown",
   "metadata": {
    "colab_type": "text",
    "id": "HAgmj657-iL6"
   },
   "source": [
    "Make the TTI Model:"
   ]
  },
  {
   "cell_type": "code",
   "execution_count": 23,
   "metadata": {
    "colab": {},
    "colab_type": "code",
    "id": "NjH7Ih7x-iL7"
   },
   "outputs": [],
   "source": [
    "tti_model = TTIFlowModel(rng, **strategy_config)"
   ]
  },
  {
   "cell_type": "markdown",
   "metadata": {
    "colab_type": "text",
    "id": "7IFGP5K6-iL-"
   },
   "source": [
    "Generate cases, contacts and run simulation:"
   ]
  },
  {
   "cell_type": "code",
   "execution_count": 26,
   "metadata": {
    "colab": {
     "base_uri": "https://localhost:8080/",
     "height": 67,
     "referenced_widgets": [
      "6d622bc0a8f64f0d87aa499c94664085",
      "8105c4eb956744b0b5e1b9ac5207f9d5",
      "01c6627a03e747b7a0bcedc0e31e94c2",
      "29401bc5d41a48bdae60957b7f3126e8",
      "d683e78b8341498cb158a434cbf70c12",
      "27ae62f93b924c9f90cf1023ec62e147",
      "026757afe50d4f14a7ba0beaf180574e",
      "44207771133e47f3a8fb7eaca6c5c1fc"
     ]
    },
    "colab_type": "code",
    "id": "tc-ESZQH-iL-",
    "outputId": "31f940ae-12a4-470b-e0f8-bb4c243fe040"
   },
   "outputs": [
    {
     "name": "stdout",
     "output_type": "stream",
     "text": [
      "{'p_under18': 0.21, 'infection_proportions': {'dist': [0.8333333333333334, 0.1, 0.06666666666666667], 'nppl': 120}, 'p_day_noticed_symptoms': [0, 0.25, 0.25, 0.2, 0.1, 0.05, 0.05, 0.05, 0.05, 0.0], 'inf_profile': [0.046966101377360424, 0.15602255610429985, 0.19829974712514023, 0.18356485224565827, 0.14541407040442172, 0.10500447388376151, 0.07130993362939089, 0.04635772205156416, 0.029167894888682697, 0.017892648289720214]}\n",
      "RandomState(MT19937)\n",
      "k\n"
     ]
    },
    {
     "name": "stderr",
     "output_type": "stream",
     "text": [
      "100%|██████████| 10000/10000 [00:05<00:00, 1790.00it/s]\n"
     ]
    }
   ],
   "source": [
    "n_cases = 10000\n",
    "outputs = list()\n",
    "\n",
    "for i in tqdm(range(n_cases)):\n",
    "    case = simulate_case(rng, **case_config)\n",
    "    case_factors = CaseFactors.simulate_from(rng, case, **factor_config)\n",
    "    contacts = simulate_contacts(case, **contacts_config)\n",
    "    res = tti_model(case, contacts, case_factors)\n",
    "    outputs.append(res)"
   ]
  },
  {
   "cell_type": "markdown",
   "metadata": {
    "colab_type": "text",
    "id": "hDnsbKVl-iMC"
   },
   "source": [
    "Collate and average results across the cases simulated:"
   ]
  },
  {
   "cell_type": "code",
   "execution_count": 25,
   "metadata": {
    "colab": {
     "base_uri": "https://localhost:8080/",
     "height": 194
    },
    "colab_type": "code",
    "id": "pd4-EaB3-iMD",
    "outputId": "1fcee086-9efe-4eb4-877a-b32e415c233a"
   },
   "outputs": [
    {
     "data": {
      "text/html": [
       "<div>\n",
       "<style scoped>\n",
       "    .dataframe tbody tr th:only-of-type {\n",
       "        vertical-align: middle;\n",
       "    }\n",
       "\n",
       "    .dataframe tbody tr th {\n",
       "        vertical-align: top;\n",
       "    }\n",
       "\n",
       "    .dataframe thead th {\n",
       "        text-align: right;\n",
       "    }\n",
       "</style>\n",
       "<table border=\"1\" class=\"dataframe\">\n",
       "  <thead>\n",
       "    <tr style=\"text-align: right;\">\n",
       "      <th></th>\n",
       "      <th>Simulation results: S3 test based TTI</th>\n",
       "    </tr>\n",
       "  </thead>\n",
       "  <tbody>\n",
       "    <tr>\n",
       "      <th>Base R</th>\n",
       "      <td>3.7</td>\n",
       "    </tr>\n",
       "    <tr>\n",
       "      <th>Effective R</th>\n",
       "      <td>1.4</td>\n",
       "    </tr>\n",
       "    <tr>\n",
       "      <th># Manual Traces (k per day)</th>\n",
       "      <td>156.6</td>\n",
       "    </tr>\n",
       "    <tr>\n",
       "      <th># App Traces (k per day)</th>\n",
       "      <td>22.5</td>\n",
       "    </tr>\n",
       "    <tr>\n",
       "      <th># Tests Needed (k per day)</th>\n",
       "      <td>89.0</td>\n",
       "    </tr>\n",
       "  </tbody>\n",
       "</table>\n",
       "</div>"
      ],
      "text/plain": [
       "                             Simulation results: S3 test based TTI\n",
       "Base R                                                         3.7\n",
       "Effective R                                                    1.4\n",
       "# Manual Traces (k per day)                                  156.6\n",
       "# App Traces (k per day)                                      22.5\n",
       "# Tests Needed (k per day)                                    89.0"
      ]
     },
     "execution_count": 25,
     "metadata": {},
     "output_type": "execute_result"
    }
   ],
   "source": [
    "# This cell is mosltly just formatting results...\n",
    "to_show = [\n",
    "    RETURN_KEYS.base_r,\n",
    "    RETURN_KEYS.reduced_r,\n",
    "    RETURN_KEYS.man_trace,\n",
    "    RETURN_KEYS.app_trace,\n",
    "    RETURN_KEYS.tests\n",
    "]\n",
    "\n",
    "# scale factor to turn simulation numbers into UK population numbers\n",
    "nppl = case_config['infection_proportions']['nppl']\n",
    "scales = [1, 1, nppl, nppl, nppl]\n",
    "\n",
    "results = pd.DataFrame(\n",
    "    outputs\n",
    ").mean(\n",
    "    0\n",
    ").loc[\n",
    "    to_show\n",
    "].mul(\n",
    "    scales\n",
    ").to_frame(\n",
    "    name=f\"Simulation results: {name.replace('_', ' ')}\"\n",
    ").rename(\n",
    "    index=lambda x: x + \" (k per day)\" if x.startswith(\"#\") else x\n",
    ")\n",
    "\n",
    "results.round(1)"
   ]
  },
  {
   "cell_type": "code",
   "execution_count": null,
   "metadata": {},
   "outputs": [],
   "source": []
  }
 ],
 "metadata": {
  "colab": {
   "include_colab_link": true,
   "name": "tti-experiment.ipynb",
   "provenance": []
  },
  "kernelspec": {
   "display_name": "Python 3.9",
   "language": "python",
   "name": "py39"
  },
  "language_info": {
   "codemirror_mode": {
    "name": "ipython",
    "version": 3
   },
   "file_extension": ".py",
   "mimetype": "text/x-python",
   "name": "python",
   "nbconvert_exporter": "python",
   "pygments_lexer": "ipython3",
   "version": "3.9.1"
  },
  "widgets": {
   "application/vnd.jupyter.widget-state+json": {
    "01c6627a03e747b7a0bcedc0e31e94c2": {
     "model_module": "@jupyter-widgets/controls",
     "model_name": "FloatProgressModel",
     "state": {
      "_dom_classes": [],
      "_model_module": "@jupyter-widgets/controls",
      "_model_module_version": "1.5.0",
      "_model_name": "FloatProgressModel",
      "_view_count": null,
      "_view_module": "@jupyter-widgets/controls",
      "_view_module_version": "1.5.0",
      "_view_name": "ProgressView",
      "bar_style": "success",
      "description": "100%",
      "description_tooltip": null,
      "layout": "IPY_MODEL_27ae62f93b924c9f90cf1023ec62e147",
      "max": 10000,
      "min": 0,
      "orientation": "horizontal",
      "style": "IPY_MODEL_d683e78b8341498cb158a434cbf70c12",
      "value": 10000
     }
    },
    "026757afe50d4f14a7ba0beaf180574e": {
     "model_module": "@jupyter-widgets/controls",
     "model_name": "DescriptionStyleModel",
     "state": {
      "_model_module": "@jupyter-widgets/controls",
      "_model_module_version": "1.5.0",
      "_model_name": "DescriptionStyleModel",
      "_view_count": null,
      "_view_module": "@jupyter-widgets/base",
      "_view_module_version": "1.2.0",
      "_view_name": "StyleView",
      "description_width": ""
     }
    },
    "27ae62f93b924c9f90cf1023ec62e147": {
     "model_module": "@jupyter-widgets/base",
     "model_name": "LayoutModel",
     "state": {
      "_model_module": "@jupyter-widgets/base",
      "_model_module_version": "1.2.0",
      "_model_name": "LayoutModel",
      "_view_count": null,
      "_view_module": "@jupyter-widgets/base",
      "_view_module_version": "1.2.0",
      "_view_name": "LayoutView",
      "align_content": null,
      "align_items": null,
      "align_self": null,
      "border": null,
      "bottom": null,
      "display": null,
      "flex": null,
      "flex_flow": null,
      "grid_area": null,
      "grid_auto_columns": null,
      "grid_auto_flow": null,
      "grid_auto_rows": null,
      "grid_column": null,
      "grid_gap": null,
      "grid_row": null,
      "grid_template_areas": null,
      "grid_template_columns": null,
      "grid_template_rows": null,
      "height": null,
      "justify_content": null,
      "justify_items": null,
      "left": null,
      "margin": null,
      "max_height": null,
      "max_width": null,
      "min_height": null,
      "min_width": null,
      "object_fit": null,
      "object_position": null,
      "order": null,
      "overflow": null,
      "overflow_x": null,
      "overflow_y": null,
      "padding": null,
      "right": null,
      "top": null,
      "visibility": null,
      "width": null
     }
    },
    "29401bc5d41a48bdae60957b7f3126e8": {
     "model_module": "@jupyter-widgets/controls",
     "model_name": "HTMLModel",
     "state": {
      "_dom_classes": [],
      "_model_module": "@jupyter-widgets/controls",
      "_model_module_version": "1.5.0",
      "_model_name": "HTMLModel",
      "_view_count": null,
      "_view_module": "@jupyter-widgets/controls",
      "_view_module_version": "1.5.0",
      "_view_name": "HTMLView",
      "description": "",
      "description_tooltip": null,
      "layout": "IPY_MODEL_44207771133e47f3a8fb7eaca6c5c1fc",
      "placeholder": "​",
      "style": "IPY_MODEL_026757afe50d4f14a7ba0beaf180574e",
      "value": " 10000/10000 [00:05&lt;00:00, 1685.76it/s]"
     }
    },
    "44207771133e47f3a8fb7eaca6c5c1fc": {
     "model_module": "@jupyter-widgets/base",
     "model_name": "LayoutModel",
     "state": {
      "_model_module": "@jupyter-widgets/base",
      "_model_module_version": "1.2.0",
      "_model_name": "LayoutModel",
      "_view_count": null,
      "_view_module": "@jupyter-widgets/base",
      "_view_module_version": "1.2.0",
      "_view_name": "LayoutView",
      "align_content": null,
      "align_items": null,
      "align_self": null,
      "border": null,
      "bottom": null,
      "display": null,
      "flex": null,
      "flex_flow": null,
      "grid_area": null,
      "grid_auto_columns": null,
      "grid_auto_flow": null,
      "grid_auto_rows": null,
      "grid_column": null,
      "grid_gap": null,
      "grid_row": null,
      "grid_template_areas": null,
      "grid_template_columns": null,
      "grid_template_rows": null,
      "height": null,
      "justify_content": null,
      "justify_items": null,
      "left": null,
      "margin": null,
      "max_height": null,
      "max_width": null,
      "min_height": null,
      "min_width": null,
      "object_fit": null,
      "object_position": null,
      "order": null,
      "overflow": null,
      "overflow_x": null,
      "overflow_y": null,
      "padding": null,
      "right": null,
      "top": null,
      "visibility": null,
      "width": null
     }
    },
    "6d622bc0a8f64f0d87aa499c94664085": {
     "model_module": "@jupyter-widgets/controls",
     "model_name": "HBoxModel",
     "state": {
      "_dom_classes": [],
      "_model_module": "@jupyter-widgets/controls",
      "_model_module_version": "1.5.0",
      "_model_name": "HBoxModel",
      "_view_count": null,
      "_view_module": "@jupyter-widgets/controls",
      "_view_module_version": "1.5.0",
      "_view_name": "HBoxView",
      "box_style": "",
      "children": [
       "IPY_MODEL_01c6627a03e747b7a0bcedc0e31e94c2",
       "IPY_MODEL_29401bc5d41a48bdae60957b7f3126e8"
      ],
      "layout": "IPY_MODEL_8105c4eb956744b0b5e1b9ac5207f9d5"
     }
    },
    "8105c4eb956744b0b5e1b9ac5207f9d5": {
     "model_module": "@jupyter-widgets/base",
     "model_name": "LayoutModel",
     "state": {
      "_model_module": "@jupyter-widgets/base",
      "_model_module_version": "1.2.0",
      "_model_name": "LayoutModel",
      "_view_count": null,
      "_view_module": "@jupyter-widgets/base",
      "_view_module_version": "1.2.0",
      "_view_name": "LayoutView",
      "align_content": null,
      "align_items": null,
      "align_self": null,
      "border": null,
      "bottom": null,
      "display": null,
      "flex": null,
      "flex_flow": null,
      "grid_area": null,
      "grid_auto_columns": null,
      "grid_auto_flow": null,
      "grid_auto_rows": null,
      "grid_column": null,
      "grid_gap": null,
      "grid_row": null,
      "grid_template_areas": null,
      "grid_template_columns": null,
      "grid_template_rows": null,
      "height": null,
      "justify_content": null,
      "justify_items": null,
      "left": null,
      "margin": null,
      "max_height": null,
      "max_width": null,
      "min_height": null,
      "min_width": null,
      "object_fit": null,
      "object_position": null,
      "order": null,
      "overflow": null,
      "overflow_x": null,
      "overflow_y": null,
      "padding": null,
      "right": null,
      "top": null,
      "visibility": null,
      "width": null
     }
    },
    "d683e78b8341498cb158a434cbf70c12": {
     "model_module": "@jupyter-widgets/controls",
     "model_name": "ProgressStyleModel",
     "state": {
      "_model_module": "@jupyter-widgets/controls",
      "_model_module_version": "1.5.0",
      "_model_name": "ProgressStyleModel",
      "_view_count": null,
      "_view_module": "@jupyter-widgets/base",
      "_view_module_version": "1.2.0",
      "_view_name": "StyleView",
      "bar_color": null,
      "description_width": "initial"
     }
    }
   }
  }
 },
 "nbformat": 4,
 "nbformat_minor": 1
}
