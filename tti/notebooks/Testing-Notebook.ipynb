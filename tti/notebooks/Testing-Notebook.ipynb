{
 "cells": [
  {
   "cell_type": "code",
   "execution_count": 1,
   "metadata": {},
   "outputs": [
    {
     "name": "stdout",
     "output_type": "stream",
     "text": [
      "/Users/elin/Documents/cam/PWML/HowQuicklyCanWeGetBackToThePub/tti\n"
     ]
    }
   ],
   "source": [
    "%pwd\n",
    "%cd /Users/elin/Documents/cam/PWML/HowQuicklyCanWeGetBackToThePub/tti"
   ]
  },
  {
   "cell_type": "code",
   "execution_count": 2,
   "metadata": {},
   "outputs": [
    {
     "data": {
      "text/plain": [
       "<module 'tti_explorer.contacts' from '/Users/elin/Documents/cam/PWML/HowQuicklyCanWeGetBackToThePub/tti/tti_explorer/contacts.py'>"
      ]
     },
     "execution_count": 2,
     "metadata": {},
     "output_type": "execute_result"
    }
   ],
   "source": [
    "import os\n",
    "\n",
    "import numpy as np\n",
    "import pandas as pd\n",
    "from tqdm.notebook import trange\n",
    "from tqdm import tqdm\n",
    "import importlib\n",
    "import pickle\n",
    "import tti_explorer\n",
    "from tti_explorer import config, utils\n",
    "from tti_explorer.case import simulate_case, CaseFactors\n",
    "from tti_explorer.contacts import EmpiricalContactsSimulator\n",
    "from tti_explorer.strategies import TTIFlowModel, RETURN_KEYS\n",
    "import matplotlib.pyplot as plt\n",
    "\n",
    "%matplotlib inline\n",
    "\n",
    "importlib.reload(tti_explorer)\n",
    "importlib.reload(tti_explorer.config)\n",
    "importlib.reload(tti_explorer.utils)\n",
    "importlib.reload(tti_explorer.case)\n",
    "importlib.reload(tti_explorer.strategies)\n",
    "importlib.reload(tti_explorer.contacts)"
   ]
  },
  {
   "cell_type": "code",
   "execution_count": 3,
   "metadata": {},
   "outputs": [],
   "source": [
    "def print_doc(func):\n",
    "    print(func.__doc__)"
   ]
  },
  {
   "cell_type": "code",
   "execution_count": 4,
   "metadata": {},
   "outputs": [],
   "source": [
    "name = 'S3_test_based_TTI'\n",
    "rng = np.random.RandomState(0)\n",
    "case_config = config.get_case_config(\"delve\")\n",
    "#case_config = config.get_case_config(\"delve_mostly_old\")\n",
    "#case_config = config.get_case_config(\"delve_mostly_twenties\")\n",
    "contacts_config = config.get_contacts_config(\"delve\")\n",
    "policy_config = config.get_strategy_configs(\"delve\", name)[name]\n",
    "factor_config = utils.get_sub_dictionary(policy_config, config.DELVE_CASE_FACTOR_KEYS)\n",
    "strategy_config = utils.get_sub_dictionary(policy_config, config.DELVE_STRATEGY_FACTOR_KEYS)"
   ]
  },
  {
   "cell_type": "code",
   "execution_count": 5,
   "metadata": {},
   "outputs": [],
   "source": [
    "def load_csv(pth):\n",
    "    return np.loadtxt(pth, dtype=int, skiprows=1, delimiter=\",\")"
   ]
  },
  {
   "cell_type": "code",
   "execution_count": 6,
   "metadata": {},
   "outputs": [],
   "source": [
    "path_to_bbc_data = os.path.join(\"data\", \"processed\")\n",
    "\n",
    "child_no_school = load_csv(os.path.join(path_to_bbc_data, \"childnoschool.csv\"))\n",
    "child_school = load_csv(os.path.join(path_to_bbc_data, \"childschool.csv\"))\n",
    "university = load_csv(os.path.join(path_to_bbc_data, \"university.csv\"))\n",
    "twenties = load_csv(os.path.join(path_to_bbc_data, \"twenties.csv\"))\n",
    "thirties_to_fifties = load_csv(os.path.join(path_to_bbc_data, \"thirtiestofifties.csv\"))\n",
    "fifties_to_seventies = load_csv(os.path.join(path_to_bbc_data, \"fiftiestoseventies.csv\"))\n",
    "seventy_plus = load_csv(os.path.join(path_to_bbc_data, \"seventyplus.csv\"))"
   ]
  },
  {
   "cell_type": "code",
   "execution_count": 7,
   "metadata": {},
   "outputs": [],
   "source": [
    "double_dose = False\n",
    "vaccine_strategy = 'gov'\n",
    "#Vaccine strategies are: none, all, gov, young_inc_children, \n",
    "#                        young_exc_children"
   ]
  },
  {
   "cell_type": "code",
   "execution_count": 8,
   "metadata": {},
   "outputs": [],
   "source": [
    "simulate_contacts = EmpiricalContactsSimulator(child_no_school, child_school, university, twenties, thirties_to_fifties, fifties_to_seventies, seventy_plus, double_dose, vaccine_strategy, rng)\n",
    "tti_model = TTIFlowModel(rng, **strategy_config)"
   ]
  },
  {
   "cell_type": "code",
   "execution_count": 9,
   "metadata": {},
   "outputs": [
    {
     "name": "stderr",
     "output_type": "stream",
     "text": [
      "100%|██████████| 1000/1000 [00:09<00:00, 101.17it/s]\n"
     ]
    }
   ],
   "source": [
    "n_seperate_starting_cases = 1000\n",
    "n_repetitions = 10\n",
    "outputs = list()\n",
    "death_rates = []\n",
    "\n",
    "for i in tqdm(range(n_seperate_starting_cases)):\n",
    "    old_probs = []\n",
    "    for i in range(n_repetitions):\n",
    "        case = simulate_case(rng, p_for_categories_continued=old_probs, **case_config)\n",
    "        case_factors = CaseFactors.simulate_from(rng, case, **factor_config)\n",
    "        (contacts, old_probs, death_rate) = simulate_contacts(case, double_dose, vaccine_strategy, None, **contacts_config)\n",
    "        res = tti_model(case, contacts, case_factors)\n",
    "        outputs.append(res)\n",
    "        death_rates.append(death_rate)"
   ]
  },
  {
   "cell_type": "code",
   "execution_count": 10,
   "metadata": {},
   "outputs": [
    {
     "name": "stdout",
     "output_type": "stream",
     "text": [
      "Average Mortality Rate For Contacts: 0.93%\n",
      "Base R: 3.524\n",
      "Effective R: 1.106\n"
     ]
    }
   ],
   "source": [
    "to_show = [\n",
    "    RETURN_KEYS.base_r,\n",
    "    RETURN_KEYS.reduced_r\n",
    "]\n",
    "\n",
    "x = pd.DataFrame(outputs).mean(0).loc[to_show].to_frame().to_numpy().flatten()\n",
    "base_r = x[0]\n",
    "effective_r = x[1]\n",
    "relevant_death_rate_sum = sum(n for n in death_rates if n != -1)\n",
    "relevant_death_rate_count = sum(1 for n in death_rates if n != -1)\n",
    "dr = relevant_death_rate_sum / relevant_death_rate_count\n",
    "\n",
    "print(\"Average Mortality Rate For Contacts: \" + str(round(dr*100,2)) + \"%\")\n",
    "print(\"Base R: \" + str(round(base_r, 3)))\n",
    "print(\"Effective R: \" + str(round(effective_r, 3)))"
   ]
  },
  {
   "cell_type": "code",
   "execution_count": 14,
   "metadata": {},
   "outputs": [
    {
     "name": "stderr",
     "output_type": "stream",
     "text": [
      "100%|██████████| 100/100 [01:40<00:00,  1.00s/it]\n"
     ]
    }
   ],
   "source": [
    "#New variant\n",
    "n_seperate_starting_cases = 100\n",
    "n_repetitions = 10\n",
    "\n",
    "effective_R_rates = list()\n",
    "base_R_values = list()\n",
    "death_rates = []\n",
    "av_mortality_rates = []\n",
    "\n",
    "def find_R(variant, dose, vaccine, vaccine_efficacy):\n",
    "    R_values = list()\n",
    "    \n",
    "    contacts_config = config.get_contacts_config(\"delve\")\n",
    "    contacts_config = dict(home_sar=contacts_config.get(\"home_sar\") * variant,\n",
    "                           work_sar=contacts_config.get(\"work_sar\") * variant, \n",
    "                           other_sar=contacts_config.get(\"other_sar\") * variant, \n",
    "                           period=10, asymp_factor=0.5)\n",
    "    \n",
    "    for i in range(n_seperate_starting_cases):\n",
    "        old_probs = []\n",
    "        for i in range(n_repetitions):\n",
    "            case = simulate_case(rng, p_for_categories_continued=old_probs, **case_config)\n",
    "            case_factors = CaseFactors.simulate_from(rng, case, **factor_config)\n",
    "            (contacts, old_probs, death_rate) = simulate_contacts(case, dose, vaccine, vaccine_efficacy, **contacts_config)\n",
    "            res = tti_model(case, contacts, case_factors)\n",
    "            R_values.append(res)\n",
    "            death_rates.append(death_rate)      \n",
    "            \n",
    "    results_list = pd.DataFrame(R_values).mean(0).loc[to_show]\n",
    "    effective_R_rates.append(results_list.get(\"Effective R\"))\n",
    "    base_R_values.append(results_list.get(\"Base R\"))\n",
    "    relevant_death_rate_sum = sum(n for n in death_rates if n != -1)\n",
    "    relevant_death_rate_count = sum(1 for n in death_rates if n != -1)\n",
    "    if(relevant_death_rate_count == 0):\n",
    "        dr = 0\n",
    "    else:\n",
    "        dr = relevant_death_rate_sum / relevant_death_rate_count\n",
    "    av_mortality_rates.append(dr)\n",
    "\n",
    "\n",
    "# New variant effects on R\n",
    "for i in tqdm(np.linspace(1, 2, 100)):\n",
    "    find_R(i, False, 'none', None)\n"
   ]
  },
  {
   "cell_type": "code",
   "execution_count": 15,
   "metadata": {},
   "outputs": [
    {
     "data": {
      "image/png": "[encoded data removed]",
      "text/plain": [
       "<Figure size 432x288 with 2 Axes>"
      ]
     },
     "metadata": {
      "needs_background": "light"
     },
     "output_type": "display_data"
    },
    {
     "data": {
      "text/plain": [
       "<Figure size 432x288 with 0 Axes>"
      ]
     },
     "metadata": {},
     "output_type": "display_data"
    }
   ],
   "source": [
    "fig, ax = plt.subplots()\n",
    "ax.plot(np.linspace(0, 1, 100), base_R_values, color = \"red\", label=\"Base R Rates\")\n",
    "ax.plot(np.linspace(0, 1, 100), effective_R_rates, color = \"orange\", label=\"Effective R Rates\")\n",
    "ax.set_xlabel(\"N501Y Increased transmission rate\")\n",
    "ax.set_ylabel(\"R rate\")\n",
    "ax2 = ax.twinx()  \n",
    "ax2.set_ylabel(\"Mortality Rate\")\n",
    "ax2.plot(np.linspace(0, 1, 100), av_mortality_rates, color = \"blue\", label=\"Mortality Rates\")\n",
    "fig.tight_layout() \n",
    "plt.figure()\n",
    "plt.show()"
   ]
  },
  {
   "cell_type": "code",
   "execution_count": 16,
   "metadata": {},
   "outputs": [
    {
     "name": "stderr",
     "output_type": "stream",
     "text": [
      "100%|██████████| 100/100 [01:47<00:00,  1.07s/it]\n"
     ]
    }
   ],
   "source": [
    "contacts_config = config.get_contacts_config(\"delve\")\n",
    "base_r_rates = []\n",
    "effective_r_rates = []\n",
    "av_mortality_rates = []\n",
    "to_show = [\n",
    "    RETURN_KEYS.base_r,\n",
    "    RETURN_KEYS.reduced_r\n",
    "]\n",
    "\n",
    "for immunity in tqdm(np.linspace(0,0.99,100)):\n",
    "    n_seperate_starting_cases = 100\n",
    "    n_repetitions = 10\n",
    "    outputs = list()\n",
    "    death_rates = []\n",
    "    \n",
    "    for i in range(n_seperate_starting_cases):\n",
    "        old_probs = []\n",
    "        for i in range(n_repetitions):\n",
    "            case = simulate_case(rng, p_for_categories_continued=old_probs, **case_config)\n",
    "            case_factors = CaseFactors.simulate_from(rng, case, **factor_config)\n",
    "            (contacts, old_probs, death_rate) = simulate_contacts(case, None, immunity, None, **contacts_config)\n",
    "            res = tti_model(case, contacts, case_factors)\n",
    "            outputs.append(res)\n",
    "            death_rates.append(death_rate)\n",
    "            \n",
    "\n",
    "\n",
    "    x = pd.DataFrame(outputs).mean(0).loc[to_show].to_frame().to_numpy().flatten()\n",
    "    base_r_rates.append(x[0])\n",
    "    effective_r_rates.append(x[1])\n",
    "    relevant_death_rate_sum = sum(n for n in death_rates if n != -1)\n",
    "    relevant_death_rate_count = sum(1 for n in death_rates if n != -1)\n",
    "    if(relevant_death_rate_count == 0):\n",
    "        dr = 0\n",
    "    else:\n",
    "        dr = relevant_death_rate_sum / relevant_death_rate_count\n",
    "    av_mortality_rates.append(dr)\n",
    "\n",
    "\n",
    "with open('results/immunity_br.pkl', 'wb+') as f:\n",
    "    pickle.dump(base_r_rates, f)\n",
    "    \n",
    "with open('results/immunity_er.pkl', 'wb+') as f:\n",
    "    pickle.dump(effective_r_rates, f)\n",
    "    \n",
    "with open('results/immunity_dr.pkl', 'wb+') as f:\n",
    "    pickle.dump(av_mortality_rates, f)"
   ]
  },
  {
   "cell_type": "code",
   "execution_count": 17,
   "metadata": {},
   "outputs": [
    {
     "data": {
      "image/png": "[encoded data removed]",
      "text/plain": [
       "<Figure size 432x288 with 2 Axes>"
      ]
     },
     "metadata": {
      "needs_background": "light"
     },
     "output_type": "display_data"
    },
    {
     "data": {
      "text/plain": [
       "<Figure size 432x288 with 0 Axes>"
      ]
     },
     "metadata": {},
     "output_type": "display_data"
    }
   ],
   "source": [
    "fig, ax = plt.subplots()\n",
    "ax.plot(np.linspace(0,.99,100), base_r_rates, color = \"red\", label=\"Base R Rates\")\n",
    "ax.plot(np.linspace(0,.99,100), effective_r_rates, color = \"orange\", label=\"Effective R Rates\")\n",
    "ax.set_xlabel(\"Population Immunity\")\n",
    "ax.set_ylabel(\"R rate\")\n",
    "ax2 = ax.twinx()  \n",
    "ax2.set_ylabel(\"Mortality Rate\")\n",
    "ax2.plot(np.linspace(0,.99,100), av_mortality_rates, color = \"blue\", label=\"Mortality Rates\")\n",
    "#ax2.set_ylim(0, 0.1)\n",
    "fig.tight_layout() \n",
    "plt.figure()\n",
    "plt.show()"
   ]
  },
  {
   "cell_type": "code",
   "execution_count": 18,
   "metadata": {},
   "outputs": [
    {
     "name": "stderr",
     "output_type": "stream",
     "text": [
      "100%|██████████| 100/100 [01:43<00:00,  1.04s/it]\n"
     ]
    }
   ],
   "source": [
    "# vaccine efficacy\n",
    "vaccine_strategy = 'all'\n",
    "#Vaccine strategies are: none, all, gov, young_inc_children, \n",
    "#                        young_exc_children\n",
    "\n",
    "base_r_rates = []\n",
    "effective_r_rates = []\n",
    "av_mortality_rates = []\n",
    "to_show = [\n",
    "    RETURN_KEYS.base_r,\n",
    "    RETURN_KEYS.reduced_r\n",
    "]\n",
    "\n",
    "for vaccine_efficacy in tqdm(np.linspace(0.2,0.99,100)):\n",
    "    n_seperate_starting_cases = 100\n",
    "    n_repetitions = 10\n",
    "    outputs = list()\n",
    "    death_rates = []\n",
    "    \n",
    "    for i in range(n_seperate_starting_cases):\n",
    "        old_probs = []\n",
    "        for i in range(n_repetitions):\n",
    "            case = simulate_case(rng, p_for_categories_continued=old_probs, **case_config)\n",
    "            case_factors = CaseFactors.simulate_from(rng, case, **factor_config)\n",
    "            (contacts, old_probs, death_rate) = simulate_contacts(case, False, vaccine_strategy, vaccine_efficacy, **contacts_config)\n",
    "            res = tti_model(case, contacts, case_factors)\n",
    "            outputs.append(res)\n",
    "            death_rates.append(death_rate)\n",
    "            \n",
    "\n",
    "\n",
    "    x = pd.DataFrame(outputs).mean(0).loc[to_show].to_frame().to_numpy().flatten()\n",
    "    base_r_rates.append(x[0])\n",
    "    effective_r_rates.append(x[1])\n",
    "    relevant_death_rate_sum = sum(n for n in death_rates if n != -1)\n",
    "    relevant_death_rate_count = sum(1 for n in death_rates if n != -1)\n",
    "    if(relevant_death_rate_count == 0):\n",
    "        dr = 0\n",
    "    else:\n",
    "        dr = relevant_death_rate_sum / relevant_death_rate_count\n",
    "    av_mortality_rates.append(dr)\n",
    "\n",
    "with open('results/efficacy_br.pkl', 'wb+') as f:\n",
    "    pickle.dump(base_r_rates, f)\n",
    "    \n",
    "with open('results/efficacy_er.pkl', 'wb+') as f:\n",
    "    pickle.dump(effective_r_rates, f)\n",
    "    \n",
    "with open('results/efficacy_dr.pkl', 'wb+') as f:\n",
    "    pickle.dump(av_mortality_rates, f)"
   ]
  },
  {
   "cell_type": "code",
   "execution_count": 19,
   "metadata": {},
   "outputs": [
    {
     "data": {
      "image/png": "[encoded data removed]",
      "text/plain": [
       "<Figure size 432x288 with 2 Axes>"
      ]
     },
     "metadata": {
      "needs_background": "light"
     },
     "output_type": "display_data"
    },
    {
     "data": {
      "text/plain": [
       "<Figure size 432x288 with 0 Axes>"
      ]
     },
     "metadata": {},
     "output_type": "display_data"
    }
   ],
   "source": [
    "fig, ax = plt.subplots()\n",
    "ax.plot(np.linspace(0.2,0.99,100), base_r_rates, color = \"red\", label=\"Base R Rates\")\n",
    "ax.plot(np.linspace(0.2,0.99,100), effective_r_rates, color = \"orange\", label=\"Effective R Rates\")\n",
    "ax.set_xlabel(\"Vaccine Efficacy\")\n",
    "ax.set_ylabel(\"R rate\")\n",
    "ax2 = ax.twinx()  \n",
    "ax2.set_ylabel(\"Mortality Rate\")\n",
    "ax2.plot(np.linspace(0.2,0.99,100), av_mortality_rates, color = \"blue\", label=\"Mortality Rates\")\n",
    "#ax2.set_ylim(0, 0.1)\n",
    "fig.tight_layout() \n",
    "plt.figure()\n",
    "plt.show()\n"
   ]
  },
  {
   "cell_type": "code",
   "execution_count": 21,
   "metadata": {},
   "outputs": [
    {
     "name": "stdout",
     "output_type": "stream",
     "text": [
      "\n",
      "CONFIG: (Double Dose: False, Strategy: none)\n",
      "\n",
      "Base R Rate: 4.0\n",
      "\n",
      "Effective R Rate: 1.25\n",
      "\n",
      "Mortality Rate: 0.0156\n",
      "\n",
      "\n",
      "\n",
      "CONFIG: (Double Dose: True, Strategy: 30s_prioritised)\n",
      "\n",
      "Base R Rate: 3.3\n",
      "\n",
      "Effective R Rate: 1.12\n",
      "\n",
      "Mortality Rate: 0.0109\n",
      "\n",
      "\n",
      "\n",
      "CONFIG: (Double Dose: True, Strategy: equal)\n",
      "\n",
      "Base R Rate: 3.69\n",
      "\n",
      "Effective R Rate: 1.1\n",
      "\n",
      "Mortality Rate: 0.0115\n",
      "\n",
      "\n",
      "\n",
      "CONFIG: (Double Dose: True, Strategy: gov)\n",
      "\n",
      "Base R Rate: 3.79\n",
      "\n",
      "Effective R Rate: 1.35\n",
      "\n",
      "Mortality Rate: 0.012\n",
      "\n",
      "\n",
      "\n",
      "CONFIG: (Double Dose: True, Strategy: young_inc_children)\n",
      "\n",
      "Base R Rate: 3.35\n",
      "\n",
      "Effective R Rate: 1.01\n",
      "\n",
      "Mortality Rate: 0.0125\n",
      "\n",
      "\n",
      "\n",
      "CONFIG: (Double Dose: True, Strategy: young_exc_children)\n",
      "\n",
      "Base R Rate: 3.84\n",
      "\n",
      "Effective R Rate: 1.3\n",
      "\n",
      "Mortality Rate: 0.0136\n",
      "\n",
      "\n",
      "\n",
      "CONFIG: (Double Dose: False, Strategy: 30s_prioritised)\n",
      "\n",
      "Base R Rate: 3.12\n",
      "\n",
      "Effective R Rate: 1.16\n",
      "\n",
      "Mortality Rate: 0.0089\n",
      "\n",
      "\n",
      "\n",
      "CONFIG: (Double Dose: False, Strategy: equal)\n",
      "\n",
      "Base R Rate: 3.06\n",
      "\n",
      "Effective R Rate: 1.01\n",
      "\n",
      "Mortality Rate: 0.0103\n",
      "\n",
      "\n",
      "\n",
      "CONFIG: (Double Dose: False, Strategy: gov)\n",
      "\n",
      "Base R Rate: 3.45\n",
      "\n",
      "Effective R Rate: 1.05\n",
      "\n",
      "Mortality Rate: 0.0094\n",
      "\n",
      "\n",
      "\n",
      "CONFIG: (Double Dose: False, Strategy: young_inc_children)\n",
      "\n",
      "Base R Rate: 2.78\n",
      "\n",
      "Effective R Rate: 0.87\n",
      "\n",
      "Mortality Rate: 0.0125\n",
      "\n",
      "\n",
      "\n",
      "CONFIG: (Double Dose: False, Strategy: young_exc_children)\n",
      "\n",
      "Base R Rate: 3.35\n",
      "\n",
      "Effective R Rate: 1.22\n",
      "\n",
      "Mortality Rate: 0.0114\n",
      "\n",
      "\n"
     ]
    }
   ],
   "source": [
    "configs = [(False, 'none'), (True, '30s_prioritised'), (True, 'equal'), (True, 'gov'), (True, 'young_inc_children'), (True, 'young_exc_children'),\n",
    "          (False, '30s_prioritised'), (False, 'equal'), (False, 'gov'), (False, 'young_inc_children'), (False, 'young_exc_children')]\n",
    "\n",
    "to_show = [\n",
    "    RETURN_KEYS.base_r,\n",
    "    RETURN_KEYS.reduced_r\n",
    "]\n",
    "\n",
    "f = open('results/vaccine_methods2.txt', 'w+')\n",
    "\n",
    "for c in configs:\n",
    "    double_dose = c[0]\n",
    "    vaccine_strategy = c[1]\n",
    "    n_seperate_starting_cases = 200\n",
    "    n_repetitions = 20\n",
    "    outputs = list()\n",
    "    death_rates = []\n",
    "    \n",
    "    for i in range(n_seperate_starting_cases):\n",
    "        old_probs = []\n",
    "        for i in range(n_repetitions):\n",
    "            case = simulate_case(rng, p_for_categories_continued=old_probs, **case_config)\n",
    "            case_factors = CaseFactors.simulate_from(rng, case, **factor_config)\n",
    "            (contacts, old_probs, death_rate) = simulate_contacts(case, double_dose, vaccine_strategy, None, **contacts_config)\n",
    "            res = tti_model(case, contacts, case_factors)\n",
    "            outputs.append(res)\n",
    "            death_rates.append(death_rate)\n",
    "            \n",
    "\n",
    "\n",
    "    x = pd.DataFrame(outputs).mean(0).loc[to_show].to_frame().to_numpy().flatten()\n",
    "    print()\n",
    "    l1 = (\"CONFIG: (Double Dose: \" + str(c[0]) + \", Strategy: \" + str(c[1]) + \")\\n\")\n",
    "    l2 = (\"Base R Rate: \" + str(round(x[0], 2)) + \"\\n\")\n",
    "    l3 = (\"Effective R Rate: \" + str(round(x[1], 2)) + \"\\n\")\n",
    "    relevant_death_rate_sum = sum(n for n in death_rates if n != -1)\n",
    "    relevant_death_rate_count = sum(1 for n in death_rates if n != -1)\n",
    "    dr = relevant_death_rate_sum / relevant_death_rate_count\n",
    "    l4 = (\"Mortality Rate: \" + str(round(dr, 4)) + \"\\n\\n\")\n",
    "    \n",
    "    f.writelines([l1, l2, l3, l4])\n",
    "    print(l1)\n",
    "    print(l2)\n",
    "    print(l3)\n",
    "    print(l4)\n",
    "\n",
    "f.close()"
   ]
  },
  {
   "cell_type": "code",
   "execution_count": 24,
   "metadata": {},
   "outputs": [],
   "source": [
    "to_show = [\n",
    "    RETURN_KEYS.base_r,\n",
    "    RETURN_KEYS.reduced_r\n",
    "]\n",
    "\n",
    "\n",
    "def return_base_r_rate(vaccine_distribution):\n",
    "    contacts_config = config.get_contacts_config(\"delve\")\n",
    "    \n",
    "    n_seperate_starting_cases = 40\n",
    "    n_repetitions = 5\n",
    "    outputs = list()\n",
    "    death_rates = []\n",
    "    \n",
    "    for i in range(n_seperate_starting_cases):\n",
    "        old_probs = []\n",
    "        for i in range(n_repetitions):\n",
    "            case = simulate_case(rng, p_for_categories_continued=old_probs, **case_config)\n",
    "            case_factors = CaseFactors.simulate_from(rng, case, **factor_config)\n",
    "            (contacts, old_probs, death_rate) = simulate_contacts(case, double_dose, None, vaccine_distribution, None, **contacts_config)\n",
    "            res = tti_model(case, contacts, case_factors)\n",
    "            outputs.append(res)\n",
    "            death_rates.append(death_rate)\n",
    "            \n",
    "\n",
    "\n",
    "    x = pd.DataFrame(outputs).mean(0).loc[to_show].to_frame().to_numpy().flatten()\n",
    "    return x[0]\n",
    "\n",
    "def return_effective_r_rate(vaccine_distribution):\n",
    "    n_seperate_starting_cases = 100\n",
    "    n_repetitions = 10\n",
    "    outputs = list()\n",
    "    death_rates = []\n",
    "    \n",
    "    for i in range(n_seperate_starting_cases):\n",
    "        old_probs = []\n",
    "        for i in range(n_repetitions):\n",
    "            case = simulate_case(rng, p_for_categories_continued=old_probs, **case_config)\n",
    "            case_factors = CaseFactors.simulate_from(rng, case, **factor_config)\n",
    "            (contacts, old_probs, death_rate) = simulate_contacts(case, double_dose, None, vaccine_distribution, None, **contacts_config)\n",
    "            res = tti_model(case, contacts, case_factors)\n",
    "            outputs.append(res)\n",
    "            death_rates.append(death_rate)\n",
    "            \n",
    "\n",
    "\n",
    "    x = pd.DataFrame(outputs).mean(0).loc[to_show].to_frame().to_numpy().flatten()\n",
    "    return x[1]\n",
    "\n",
    "def return_mortality_rate(vaccine_distribution):\n",
    "    n_seperate_starting_cases = 500\n",
    "    n_repetitions = 10\n",
    "    outputs = list()\n",
    "    death_rates = []\n",
    "    \n",
    "    for i in range(n_seperate_starting_cases):\n",
    "        old_probs = []\n",
    "        for i in range(n_repetitions):\n",
    "            case = simulate_case(rng, p_for_categories_continued=old_probs, **case_config)\n",
    "            case_factors = CaseFactors.simulate_from(rng, case, **factor_config)\n",
    "            (contacts, old_probs, death_rate) = simulate_contacts(case, double_dose, None, vaccine_distribution, None, **contacts_config)\n",
    "            res = tti_model(case, contacts, case_factors)\n",
    "            outputs.append(res)\n",
    "            death_rates.append(death_rate)\n",
    "            \n",
    "\n",
    "\n",
    "    x = pd.DataFrame(outputs).mean(0).loc[to_show].to_frame().to_numpy().flatten()\n",
    "    relevant_death_rate_sum = sum(n for n in death_rates if n != -1)\n",
    "    relevant_death_rate_count = sum(1 for n in death_rates if n != -1)\n",
    "    dr = relevant_death_rate_sum / relevant_death_rate_count\n",
    "    return dr"
   ]
  },
  {
   "cell_type": "code",
   "execution_count": 31,
   "metadata": {},
   "outputs": [
    {
     "ename": "ModuleNotFoundError",
     "evalue": "No module named 'emukit'",
     "output_type": "error",
     "traceback": [
      "\u001b[0;31m---------------------------------------------------------------------------\u001b[0m",
      "\u001b[0;31mModuleNotFoundError\u001b[0m                       Traceback (most recent call last)",
      "\u001b[0;32m<ipython-input-31-451adff27d5e>\u001b[0m in \u001b[0;36m<module>\u001b[0;34m\u001b[0m\n\u001b[0;32m----> 1\u001b[0;31m \u001b[0;32mfrom\u001b[0m \u001b[0memukit\u001b[0m\u001b[0;34m.\u001b[0m\u001b[0mcore\u001b[0m \u001b[0;32mimport\u001b[0m \u001b[0mContinuousParameter\u001b[0m\u001b[0;34m,\u001b[0m \u001b[0mParameterSpace\u001b[0m\u001b[0;34m\u001b[0m\u001b[0;34m\u001b[0m\u001b[0m\n\u001b[0m\u001b[1;32m      2\u001b[0m \u001b[0;32mfrom\u001b[0m \u001b[0memukit\u001b[0m\u001b[0;34m.\u001b[0m\u001b[0msensitivity\u001b[0m\u001b[0;34m.\u001b[0m\u001b[0mmonte_carlo\u001b[0m \u001b[0;32mimport\u001b[0m \u001b[0mModelFreeMonteCarloSensitivity\u001b[0m\u001b[0;34m\u001b[0m\u001b[0;34m\u001b[0m\u001b[0m\n\u001b[1;32m      3\u001b[0m \u001b[0mnp\u001b[0m\u001b[0;34m.\u001b[0m\u001b[0mrandom\u001b[0m\u001b[0;34m.\u001b[0m\u001b[0mseed\u001b[0m\u001b[0;34m(\u001b[0m\u001b[0;36m10\u001b[0m\u001b[0;34m)\u001b[0m\u001b[0;34m\u001b[0m\u001b[0;34m\u001b[0m\u001b[0m\n\u001b[1;32m      4\u001b[0m \u001b[0;34m\u001b[0m\u001b[0m\n\u001b[1;32m      5\u001b[0m \u001b[0;32mdef\u001b[0m \u001b[0mtest_base_r\u001b[0m\u001b[0;34m(\u001b[0m\u001b[0mx\u001b[0m\u001b[0;34m)\u001b[0m\u001b[0;34m:\u001b[0m\u001b[0;34m\u001b[0m\u001b[0;34m\u001b[0m\u001b[0m\n",
      "\u001b[0;31mModuleNotFoundError\u001b[0m: No module named 'emukit'"
     ]
    }
   ],
   "source": [
    "from emukit.core import ContinuousParameter, ParameterSpace\n",
    "from emukit.sensitivity.monte_carlo import ModelFreeMonteCarloSensitivity\n",
    "np.random.seed(10)\n",
    "\n",
    "def test_base_r(x):\n",
    "    to_return = np.zeros(x.shape[0])\n",
    "    for i, y in enumerate(x):\n",
    "        to_return[i] = return_base_r_rate(y)\n",
    "    return to_return\n",
    "\n",
    "def test_effective_r(x):\n",
    "    to_return = np.zeros(x.shape[0])\n",
    "    for i, y in enumerate(x):\n",
    "        to_return[i] = return_effective_r_rate(y)\n",
    "    return to_return\n",
    "\n",
    "def test_mortality(x):\n",
    "    to_return = np.zeros(x.shape[0])\n",
    "    for i, y in enumerate(x):\n",
    "        to_return[i] = return_mortality_rate(y)\n",
    "    return to_return\n"
   ]
  },
  {
   "cell_type": "code",
   "execution_count": 27,
   "metadata": {},
   "outputs": [
    {
     "ename": "NameError",
     "evalue": "name 'ParameterSpace' is not defined",
     "output_type": "error",
     "traceback": [
      "\u001b[0;31m---------------------------------------------------------------------------\u001b[0m",
      "\u001b[0;31mNameError\u001b[0m                                 Traceback (most recent call last)",
      "\u001b[0;32m<ipython-input-27-18511c15df2a>\u001b[0m in \u001b[0;36m<module>\u001b[0;34m\u001b[0m\n\u001b[1;32m      1\u001b[0m \u001b[0mvariable_domain\u001b[0m \u001b[0;34m=\u001b[0m \u001b[0;34m(\u001b[0m\u001b[0;36m0\u001b[0m\u001b[0;34m,\u001b[0m \u001b[0;36m1\u001b[0m\u001b[0;34m)\u001b[0m\u001b[0;34m\u001b[0m\u001b[0;34m\u001b[0m\u001b[0m\n\u001b[1;32m      2\u001b[0m \u001b[0;34m\u001b[0m\u001b[0m\n\u001b[0;32m----> 3\u001b[0;31m space = ParameterSpace([ContinuousParameter('child no school', variable_domain[0], variable_domain[1]), \n\u001b[0m\u001b[1;32m      4\u001b[0m                         \u001b[0mContinuousParameter\u001b[0m\u001b[0;34m(\u001b[0m\u001b[0;34m'children school'\u001b[0m\u001b[0;34m,\u001b[0m \u001b[0mvariable_domain\u001b[0m\u001b[0;34m[\u001b[0m\u001b[0;36m0\u001b[0m\u001b[0;34m]\u001b[0m\u001b[0;34m,\u001b[0m \u001b[0mvariable_domain\u001b[0m\u001b[0;34m[\u001b[0m\u001b[0;36m1\u001b[0m\u001b[0;34m]\u001b[0m\u001b[0;34m)\u001b[0m\u001b[0;34m,\u001b[0m\u001b[0;34m\u001b[0m\u001b[0;34m\u001b[0m\u001b[0m\n\u001b[1;32m      5\u001b[0m                         \u001b[0mContinuousParameter\u001b[0m\u001b[0;34m(\u001b[0m\u001b[0;34m'uni'\u001b[0m\u001b[0;34m,\u001b[0m \u001b[0mvariable_domain\u001b[0m\u001b[0;34m[\u001b[0m\u001b[0;36m0\u001b[0m\u001b[0;34m]\u001b[0m\u001b[0;34m,\u001b[0m \u001b[0mvariable_domain\u001b[0m\u001b[0;34m[\u001b[0m\u001b[0;36m1\u001b[0m\u001b[0;34m]\u001b[0m\u001b[0;34m)\u001b[0m\u001b[0;34m,\u001b[0m\u001b[0;34m\u001b[0m\u001b[0;34m\u001b[0m\u001b[0m\n",
      "\u001b[0;31mNameError\u001b[0m: name 'ParameterSpace' is not defined"
     ]
    }
   ],
   "source": [
    "variable_domain = (0, 1)\n",
    "\n",
    "space = ParameterSpace([ContinuousParameter('child no school', variable_domain[0], variable_domain[1]), \n",
    "                        ContinuousParameter('children school', variable_domain[0], variable_domain[1]),\n",
    "                        ContinuousParameter('uni', variable_domain[0], variable_domain[1]),\n",
    "                        ContinuousParameter('18-30 no uni', variable_domain[0], variable_domain[1]), \n",
    "                        ContinuousParameter('30-50', variable_domain[0], variable_domain[1]),\n",
    "                        ContinuousParameter('50-70', variable_domain[0], variable_domain[1]), \n",
    "                        ContinuousParameter('70+', variable_domain[0], variable_domain[1])])\n",
    "\n",
    "n = 1000  # Number of MC samples\n",
    "sens = ModelFreeMonteCarloSensitivity(test_base_r, space)\n",
    "main_effects_base_r, total_effects_base_r, _ = sens.compute_effects(num_monte_carlo_points = n)\n",
    "print(total_effects_base_r)\n",
    "print()\n",
    "print(main_effects_base_r)"
   ]
  },
  {
   "cell_type": "code",
   "execution_count": 28,
   "metadata": {},
   "outputs": [
    {
     "ename": "NameError",
     "evalue": "name 'ParameterSpace' is not defined",
     "output_type": "error",
     "traceback": [
      "\u001b[0;31m---------------------------------------------------------------------------\u001b[0m",
      "\u001b[0;31mNameError\u001b[0m                                 Traceback (most recent call last)",
      "\u001b[0;32m<ipython-input-28-82e2fce1e2a7>\u001b[0m in \u001b[0;36m<module>\u001b[0;34m\u001b[0m\n\u001b[1;32m      1\u001b[0m \u001b[0mvariable_domain\u001b[0m \u001b[0;34m=\u001b[0m \u001b[0;34m(\u001b[0m\u001b[0;36m0\u001b[0m\u001b[0;34m,\u001b[0m \u001b[0;36m1\u001b[0m\u001b[0;34m)\u001b[0m\u001b[0;34m\u001b[0m\u001b[0;34m\u001b[0m\u001b[0m\n\u001b[1;32m      2\u001b[0m \u001b[0;34m\u001b[0m\u001b[0m\n\u001b[0;32m----> 3\u001b[0;31m space = ParameterSpace([ContinuousParameter('child no school', variable_domain[0], variable_domain[1]), \n\u001b[0m\u001b[1;32m      4\u001b[0m                         \u001b[0mContinuousParameter\u001b[0m\u001b[0;34m(\u001b[0m\u001b[0;34m'children school'\u001b[0m\u001b[0;34m,\u001b[0m \u001b[0mvariable_domain\u001b[0m\u001b[0;34m[\u001b[0m\u001b[0;36m0\u001b[0m\u001b[0;34m]\u001b[0m\u001b[0;34m,\u001b[0m \u001b[0mvariable_domain\u001b[0m\u001b[0;34m[\u001b[0m\u001b[0;36m1\u001b[0m\u001b[0;34m]\u001b[0m\u001b[0;34m)\u001b[0m\u001b[0;34m,\u001b[0m\u001b[0;34m\u001b[0m\u001b[0;34m\u001b[0m\u001b[0m\n\u001b[1;32m      5\u001b[0m                         \u001b[0mContinuousParameter\u001b[0m\u001b[0;34m(\u001b[0m\u001b[0;34m'uni'\u001b[0m\u001b[0;34m,\u001b[0m \u001b[0mvariable_domain\u001b[0m\u001b[0;34m[\u001b[0m\u001b[0;36m0\u001b[0m\u001b[0;34m]\u001b[0m\u001b[0;34m,\u001b[0m \u001b[0mvariable_domain\u001b[0m\u001b[0;34m[\u001b[0m\u001b[0;36m1\u001b[0m\u001b[0;34m]\u001b[0m\u001b[0;34m)\u001b[0m\u001b[0;34m,\u001b[0m\u001b[0;34m\u001b[0m\u001b[0;34m\u001b[0m\u001b[0m\n",
      "\u001b[0;31mNameError\u001b[0m: name 'ParameterSpace' is not defined"
     ]
    }
   ],
   "source": [
    "variable_domain = (0, 1)\n",
    "\n",
    "space = ParameterSpace([ContinuousParameter('child no school', variable_domain[0], variable_domain[1]), \n",
    "                        ContinuousParameter('children school', variable_domain[0], variable_domain[1]),\n",
    "                        ContinuousParameter('uni', variable_domain[0], variable_domain[1]),\n",
    "                        ContinuousParameter('18-30 no uni', variable_domain[0], variable_domain[1]), \n",
    "                        ContinuousParameter('30-50', variable_domain[0], variable_domain[1]),\n",
    "                        ContinuousParameter('50-70', variable_domain[0], variable_domain[1]), \n",
    "                        ContinuousParameter('70+', variable_domain[0], variable_domain[1])])\n",
    "\n",
    "n = 100  # Number of MC samples\n",
    "sens = ModelFreeMonteCarloSensitivity(test_effective_r, space)\n",
    "main_effects_effective_r, total_effects_effective_r, _ = sens.compute_effects(num_monte_carlo_points = n)\n",
    "print(total_effects_effective_r)\n",
    "print()\n",
    "print(main_effects_effective_r)"
   ]
  },
  {
   "cell_type": "code",
   "execution_count": 29,
   "metadata": {},
   "outputs": [
    {
     "ename": "NameError",
     "evalue": "name 'ParameterSpace' is not defined",
     "output_type": "error",
     "traceback": [
      "\u001b[0;31m---------------------------------------------------------------------------\u001b[0m",
      "\u001b[0;31mNameError\u001b[0m                                 Traceback (most recent call last)",
      "\u001b[0;32m<ipython-input-29-02a51d066dc5>\u001b[0m in \u001b[0;36m<module>\u001b[0;34m\u001b[0m\n\u001b[1;32m      1\u001b[0m \u001b[0mvariable_domain\u001b[0m \u001b[0;34m=\u001b[0m \u001b[0;34m(\u001b[0m\u001b[0;36m0\u001b[0m\u001b[0;34m,\u001b[0m \u001b[0;36m1\u001b[0m\u001b[0;34m)\u001b[0m\u001b[0;34m\u001b[0m\u001b[0;34m\u001b[0m\u001b[0m\n\u001b[1;32m      2\u001b[0m \u001b[0;34m\u001b[0m\u001b[0m\n\u001b[0;32m----> 3\u001b[0;31m space = ParameterSpace([ContinuousParameter('child no school', variable_domain[0], variable_domain[1]), \n\u001b[0m\u001b[1;32m      4\u001b[0m                         \u001b[0mContinuousParameter\u001b[0m\u001b[0;34m(\u001b[0m\u001b[0;34m'children school'\u001b[0m\u001b[0;34m,\u001b[0m \u001b[0mvariable_domain\u001b[0m\u001b[0;34m[\u001b[0m\u001b[0;36m0\u001b[0m\u001b[0;34m]\u001b[0m\u001b[0;34m,\u001b[0m \u001b[0mvariable_domain\u001b[0m\u001b[0;34m[\u001b[0m\u001b[0;36m1\u001b[0m\u001b[0;34m]\u001b[0m\u001b[0;34m)\u001b[0m\u001b[0;34m,\u001b[0m\u001b[0;34m\u001b[0m\u001b[0;34m\u001b[0m\u001b[0m\n\u001b[1;32m      5\u001b[0m                         \u001b[0mContinuousParameter\u001b[0m\u001b[0;34m(\u001b[0m\u001b[0;34m'uni'\u001b[0m\u001b[0;34m,\u001b[0m \u001b[0mvariable_domain\u001b[0m\u001b[0;34m[\u001b[0m\u001b[0;36m0\u001b[0m\u001b[0;34m]\u001b[0m\u001b[0;34m,\u001b[0m \u001b[0mvariable_domain\u001b[0m\u001b[0;34m[\u001b[0m\u001b[0;36m1\u001b[0m\u001b[0;34m]\u001b[0m\u001b[0;34m)\u001b[0m\u001b[0;34m,\u001b[0m\u001b[0;34m\u001b[0m\u001b[0;34m\u001b[0m\u001b[0m\n",
      "\u001b[0;31mNameError\u001b[0m: name 'ParameterSpace' is not defined"
     ]
    }
   ],
   "source": [
    "variable_domain = (0, 1)\n",
    "\n",
    "space = ParameterSpace([ContinuousParameter('child no school', variable_domain[0], variable_domain[1]), \n",
    "                        ContinuousParameter('children school', variable_domain[0], variable_domain[1]),\n",
    "                        ContinuousParameter('uni', variable_domain[0], variable_domain[1]),\n",
    "                        ContinuousParameter('18-30 no uni', variable_domain[0], variable_domain[1]), \n",
    "                        ContinuousParameter('30-50', variable_domain[0], variable_domain[1]),\n",
    "                        ContinuousParameter('50-70', variable_domain[0], variable_domain[1]), \n",
    "                        ContinuousParameter('70+', variable_domain[0], variable_domain[1])])\n",
    "\n",
    "n = 100  # Number of MC samples\n",
    "sens = ModelFreeMonteCarloSensitivity(test_mortality, space)\n",
    "main_effects_mortality, total_effects_mortality, _ = sens.compute_effects(num_monte_carlo_points = n)\n",
    "print(total_effects_mortality)\n",
    "print()\n",
    "print(main_effects_mortality)"
   ]
  },
  {
   "cell_type": "code",
   "execution_count": null,
   "metadata": {},
   "outputs": [],
   "source": []
  }
 ],
 "metadata": {
  "kernelspec": {
   "display_name": "Python 3",
   "language": "python",
   "name": "python3"
  },
  "language_info": {
   "codemirror_mode": {
    "name": "ipython",
    "version": 3
   },
   "file_extension": ".py",
   "mimetype": "text/x-python",
   "name": "python",
   "nbconvert_exporter": "python",
   "pygments_lexer": "ipython3",
   "version": "3.8.5"
  }
 },
 "nbformat": 4,
 "nbformat_minor": 4
}
