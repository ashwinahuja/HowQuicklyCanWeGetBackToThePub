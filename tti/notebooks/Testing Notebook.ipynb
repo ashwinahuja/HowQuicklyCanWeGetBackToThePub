{
 "cells": [
  {
   "cell_type": "code",
   "execution_count": 1,
   "metadata": {},
   "outputs": [
    {
     "name": "stdout",
     "output_type": "stream",
     "text": [
      "/Users/ScottJeen/OneDrive - University of Cambridge/Classes/LM48/Project/L48Project/tti\n"
     ]
    }
   ],
   "source": [
    "%pwd\n",
    "%cd /Users/ScottJeen/OneDrive - University of Cambridge/Classes/LM48/Project/L48Project/tti"
   ]
  },
  {
   "cell_type": "code",
   "execution_count": 2,
   "metadata": {},
   "outputs": [
    {
     "data": {
      "text/plain": [
       "<module 'tti_explorer.contacts' from '/Users/ScottJeen/OneDrive - University of Cambridge/Classes/LM48/Project/L48Project/tti/tti_explorer/contacts.py'>"
      ]
     },
     "execution_count": 2,
     "metadata": {},
     "output_type": "execute_result"
    }
   ],
   "source": [
    "import os\n",
    "\n",
    "import numpy as np\n",
    "import pandas as pd\n",
    "#from tqdm.notebook import trange\n",
    "#from tqdm import tqdm\n",
    "import importlib\n",
    "\n",
    "import tti_explorer\n",
    "from tti_explorer import config, utils\n",
    "from tti_explorer.case import simulate_case, CaseFactors\n",
    "from tti_explorer.contacts import EmpiricalContactsSimulator\n",
    "from tti_explorer.strategies import TTIFlowModel, RETURN_KEYS\n",
    "\n",
    "importlib.reload(tti_explorer)\n",
    "importlib.reload(tti_explorer.config)\n",
    "importlib.reload(tti_explorer.utils)\n",
    "importlib.reload(tti_explorer.case)\n",
    "importlib.reload(tti_explorer.strategies)\n",
    "importlib.reload(tti_explorer.contacts)"
   ]
  },
  {
   "cell_type": "code",
   "execution_count": 3,
   "metadata": {},
   "outputs": [],
   "source": [
    "def print_doc(func):\n",
    "    print(func.__doc__)"
   ]
  },
  {
   "cell_type": "code",
   "execution_count": 4,
   "metadata": {},
   "outputs": [],
   "source": [
    "name = 'S3_test_based_TTI'\n",
    "rng = np.random.RandomState(0)\n",
    "case_config = config.get_case_config(\"delve_mostly_uni\")\n",
    "#case_config = config.get_case_config(\"delve_mostly_old\")\n",
    "#case_config = config.get_case_config(\"delve_mostly_twenties\")\n",
    "contacts_config = config.get_contacts_config(\"delve\")\n",
    "policy_config = config.get_strategy_configs(\"delve\", name)[name]\n",
    "factor_config = utils.get_sub_dictionary(policy_config, config.DELVE_CASE_FACTOR_KEYS)\n",
    "strategy_config = utils.get_sub_dictionary(policy_config, config.DELVE_STRATEGY_FACTOR_KEYS)"
   ]
  },
  {
   "cell_type": "code",
   "execution_count": 5,
   "metadata": {},
   "outputs": [],
   "source": [
    "def load_csv(pth):\n",
    "    return np.loadtxt(pth, dtype=int, skiprows=1, delimiter=\",\")"
   ]
  },
  {
   "cell_type": "code",
   "execution_count": 6,
   "metadata": {},
   "outputs": [],
   "source": [
    "path_to_bbc_data = os.path.join(\"data\", \"processed\")\n",
    "\n",
    "child_no_school = load_csv(os.path.join(path_to_bbc_data, \"childnoschool.csv\"))\n",
    "child_school = load_csv(os.path.join(path_to_bbc_data, \"childschool.csv\"))\n",
    "university = load_csv(os.path.join(path_to_bbc_data, \"university.csv\"))\n",
    "twenties = load_csv(os.path.join(path_to_bbc_data, \"twenties.csv\"))\n",
    "thirties_to_fifties = load_csv(os.path.join(path_to_bbc_data, \"thirtiestofifties.csv\"))\n",
    "fifties_to_seventies = load_csv(os.path.join(path_to_bbc_data, \"fiftiestoseventies.csv\"))\n",
    "seventy_plus = load_csv(os.path.join(path_to_bbc_data, \"seventyplus.csv\"))"
   ]
  },
  {
   "cell_type": "code",
   "execution_count": 7,
   "metadata": {},
   "outputs": [],
   "source": [
    "double_dose = False\n",
    "vaccine_strategy = 'gov'\n",
    "#Vaccine strategies are: none, all, gov, young_inc_children, \n",
    "#                        young_exc_children"
   ]
  },
  {
   "cell_type": "code",
   "execution_count": 8,
   "metadata": {},
   "outputs": [],
   "source": [
    "simulate_contacts = EmpiricalContactsSimulator(child_no_school, child_school, university, twenties, thirties_to_fifties, fifties_to_seventies, seventy_plus, double_dose, vaccine_strategy, rng)\n",
    "tti_model = TTIFlowModel(rng, **strategy_config)"
   ]
  },
  {
   "cell_type": "code",
   "execution_count": 9,
   "metadata": {},
   "outputs": [
    {
     "data": {
      "text/plain": [
       "'n_seperate_starting_cases = 1000\\nn_repetitions = 10\\noutputs = list()\\ndeath_rates = []\\n\\nfor i in tqdm(range(n_seperate_starting_cases)):\\n    old_probs = []\\n    for i in range(n_repetitions):\\n        case = simulate_case(rng, p_for_categories_continued=old_probs, **case_config)\\n        case_factors = CaseFactors.simulate_from(rng, case, **factor_config)\\n        (contacts, old_probs, death_rate) = simulate_contacts(case, double_dose, vaccine_strategy, None, **contacts_config)\\n        res = tti_model(case, contacts, case_factors)\\n        outputs.append(res)\\n        death_rates.append(death_rate)'"
      ]
     },
     "execution_count": 9,
     "metadata": {},
     "output_type": "execute_result"
    }
   ],
   "source": [
    "\"\"\"n_seperate_starting_cases = 1000\n",
    "n_repetitions = 10\n",
    "outputs = list()\n",
    "death_rates = []\n",
    "\n",
    "for i in tqdm(range(n_seperate_starting_cases)):\n",
    "    old_probs = []\n",
    "    for i in range(n_repetitions):\n",
    "        case = simulate_case(rng, p_for_categories_continued=old_probs, **case_config)\n",
    "        case_factors = CaseFactors.simulate_from(rng, case, **factor_config)\n",
    "        (contacts, old_probs, death_rate) = simulate_contacts(case, double_dose, vaccine_strategy, None, **contacts_config)\n",
    "        res = tti_model(case, contacts, case_factors)\n",
    "        outputs.append(res)\n",
    "        death_rates.append(death_rate)\"\"\""
   ]
  },
  {
   "cell_type": "code",
   "execution_count": 10,
   "metadata": {},
   "outputs": [
    {
     "data": {
      "text/plain": [
       "'to_show = [\\n    RETURN_KEYS.base_r,\\n    RETURN_KEYS.reduced_r\\n]\\n\\nx = pd.DataFrame(outputs).mean(0).loc[to_show].to_frame().to_numpy().flatten()\\nbase_r = x[0]\\neffective_r = x[1]\\nrelevant_death_rate_sum = sum(n for n in death_rates if n != -1)\\nrelevant_death_rate_count = sum(1 for n in death_rates if n != -1)\\ndr = relevant_death_rate_sum / relevant_death_rate_count\\n\\nprint(\"Average Mortality Rate: \" + str(round(dr*100,2)) + \"%\")\\nprint(\"Base R: \" + str(round(base_r, 3)))\\nprint(\"Effective R: \" + str(round(effective_r, 3)))'"
      ]
     },
     "execution_count": 10,
     "metadata": {},
     "output_type": "execute_result"
    }
   ],
   "source": [
    "'''to_show = [\n",
    "    RETURN_KEYS.base_r,\n",
    "    RETURN_KEYS.reduced_r\n",
    "]\n",
    "\n",
    "x = pd.DataFrame(outputs).mean(0).loc[to_show].to_frame().to_numpy().flatten()\n",
    "base_r = x[0]\n",
    "effective_r = x[1]\n",
    "relevant_death_rate_sum = sum(n for n in death_rates if n != -1)\n",
    "relevant_death_rate_count = sum(1 for n in death_rates if n != -1)\n",
    "dr = relevant_death_rate_sum / relevant_death_rate_count\n",
    "\n",
    "print(\"Average Mortality Rate: \" + str(round(dr*100,2)) + \"%\")\n",
    "print(\"Base R: \" + str(round(base_r, 3)))\n",
    "print(\"Effective R: \" + str(round(effective_r, 3)))'''"
   ]
  },
  {
   "cell_type": "code",
   "execution_count": 11,
   "metadata": {},
   "outputs": [
    {
     "data": {
      "text/plain": [
       "'base_r_rates = []\\neffective_r_rates = []\\nav_mortality_rates = []\\nto_show = [\\n    RETURN_KEYS.base_r,\\n    RETURN_KEYS.reduced_r\\n]\\n\\nfor immunity in tqdm(np.linspace(0,1,100)):\\n    n_seperate_starting_cases = 1000\\n    n_repetitions = 10\\n    outputs = list()\\n    death_rates = []\\n    \\n    for i in range(n_seperate_starting_cases):\\n        old_probs = []\\n        for i in range(n_repetitions):\\n            case = simulate_case(rng, p_for_categories_continued=old_probs, **case_config)\\n            case_factors = CaseFactors.simulate_from(rng, case, **factor_config)\\n            (contacts, old_probs, death_rate) = simulate_contacts(case, None, immunity, None, **contacts_config)\\n            res = tti_model(case, contacts, case_factors)\\n            outputs.append(res)\\n            death_rates.append(death_rate)\\n            \\n\\n\\n    x = pd.DataFrame(outputs).mean(0).loc[to_show].to_frame().to_numpy().flatten()\\n    base_r_rates.append(x[0])\\n    effective_r_rates.append(x[1])\\n    relevant_death_rate_sum = sum(n for n in death_rates if n != -1)\\n    relevant_death_rate_count = sum(1 for n in death_rates if n != -1)\\n    dr = relevant_death_rate_sum / relevant_death_rate_count\\n    av_mortality_rates.append(dr)\\n\\nprint(len(base_r_rates))'"
      ]
     },
     "execution_count": 11,
     "metadata": {},
     "output_type": "execute_result"
    }
   ],
   "source": [
    "\"\"\"base_r_rates = []\n",
    "effective_r_rates = []\n",
    "av_mortality_rates = []\n",
    "to_show = [\n",
    "    RETURN_KEYS.base_r,\n",
    "    RETURN_KEYS.reduced_r\n",
    "]\n",
    "\n",
    "for immunity in tqdm(np.linspace(0,1,100)):\n",
    "    n_seperate_starting_cases = 1000\n",
    "    n_repetitions = 10\n",
    "    outputs = list()\n",
    "    death_rates = []\n",
    "    \n",
    "    for i in range(n_seperate_starting_cases):\n",
    "        old_probs = []\n",
    "        for i in range(n_repetitions):\n",
    "            case = simulate_case(rng, p_for_categories_continued=old_probs, **case_config)\n",
    "            case_factors = CaseFactors.simulate_from(rng, case, **factor_config)\n",
    "            (contacts, old_probs, death_rate) = simulate_contacts(case, None, immunity, None, **contacts_config)\n",
    "            res = tti_model(case, contacts, case_factors)\n",
    "            outputs.append(res)\n",
    "            death_rates.append(death_rate)\n",
    "            \n",
    "\n",
    "\n",
    "    x = pd.DataFrame(outputs).mean(0).loc[to_show].to_frame().to_numpy().flatten()\n",
    "    base_r_rates.append(x[0])\n",
    "    effective_r_rates.append(x[1])\n",
    "    relevant_death_rate_sum = sum(n for n in death_rates if n != -1)\n",
    "    relevant_death_rate_count = sum(1 for n in death_rates if n != -1)\n",
    "    dr = relevant_death_rate_sum / relevant_death_rate_count\n",
    "    av_mortality_rates.append(dr)\n",
    "\n",
    "print(len(base_r_rates))\"\"\""
   ]
  },
  {
   "cell_type": "code",
   "execution_count": null,
   "metadata": {},
   "outputs": [
    {
     "name": "stdout",
     "output_type": "stream",
     "text": [
      "0.4\n",
      "0.40606060606060607\n",
      "0.41212121212121217\n",
      "0.4181818181818182\n",
      "0.42424242424242425\n",
      "0.4303030303030303\n",
      "0.4363636363636364\n",
      "0.44242424242424244\n",
      "0.4484848484848485\n",
      "0.4545454545454546\n",
      "0.46060606060606063\n",
      "0.4666666666666667\n",
      "0.4727272727272728\n",
      "0.4787878787878788\n",
      "0.48484848484848486\n",
      "0.49090909090909096\n",
      "0.496969696969697\n",
      "0.503030303030303\n",
      "0.5090909090909091\n",
      "0.5151515151515151\n",
      "0.5212121212121212\n",
      "0.5272727272727273\n",
      "0.5333333333333333\n",
      "0.5393939393939394\n",
      "0.5454545454545454\n",
      "0.5515151515151515\n",
      "0.5575757575757576\n",
      "0.5636363636363637\n",
      "0.5696969696969697\n",
      "0.5757575757575758\n",
      "0.5818181818181818\n",
      "0.5878787878787879\n",
      "0.593939393939394\n",
      "0.6000000000000001\n",
      "0.6060606060606061\n",
      "0.6121212121212122\n",
      "0.6181818181818182\n",
      "0.6242424242424243\n",
      "0.6303030303030304\n",
      "0.6363636363636364\n",
      "0.6424242424242425\n",
      "0.6484848484848484\n",
      "0.6545454545454545\n",
      "0.6606060606060606\n",
      "0.6666666666666667\n",
      "0.6727272727272727\n",
      "0.6787878787878788\n",
      "0.6848484848484848\n",
      "0.6909090909090909\n",
      "0.696969696969697\n",
      "0.7030303030303031\n",
      "0.7090909090909091\n",
      "0.7151515151515151\n",
      "0.7212121212121212\n",
      "0.7272727272727273\n",
      "0.7333333333333334\n",
      "0.7393939393939395\n",
      "0.7454545454545455\n",
      "0.7515151515151515\n",
      "0.7575757575757576\n",
      "0.7636363636363637\n",
      "0.7696969696969698\n",
      "0.7757575757575758\n",
      "0.7818181818181819\n",
      "0.7878787878787878\n",
      "0.793939393939394\n",
      "0.8\n",
      "0.8060606060606061\n",
      "0.8121212121212121\n",
      "0.8181818181818181\n",
      "0.8242424242424242\n",
      "0.8303030303030303\n",
      "0.8363636363636364\n",
      "0.8424242424242425\n"
     ]
    }
   ],
   "source": [
    "# vaccine efficacy\n",
    "\n",
    "vaccine_strategy = 'gov'\n",
    "#Vaccine strategies are: none, all, gov, young_inc_children, \n",
    "#                        young_exc_children\n",
    "\n",
    "base_r_rates = []\n",
    "effective_r_rates = []\n",
    "av_mortality_rates = []\n",
    "to_show = [\n",
    "    RETURN_KEYS.base_r,\n",
    "    RETURN_KEYS.reduced_r\n",
    "]\n",
    "\n",
    "for vaccine_efficacy in (np.linspace(0.4,1,100)):\n",
    "    print(vaccine_efficacy)\n",
    "    n_seperate_starting_cases = 1000\n",
    "    n_repetitions = 10\n",
    "    outputs = list()\n",
    "    death_rates = []\n",
    "    \n",
    "    for i in range(n_seperate_starting_cases):\n",
    "        old_probs = []\n",
    "        for i in range(n_repetitions):\n",
    "            case = simulate_case(rng, p_for_categories_continued=old_probs, **case_config)\n",
    "            case_factors = CaseFactors.simulate_from(rng, case, **factor_config)\n",
    "            (contacts, old_probs, death_rate) = simulate_contacts(case, False, vaccine_strategy, vaccine_efficacy, **contacts_config)\n",
    "            res = tti_model(case, contacts, case_factors)\n",
    "            outputs.append(res)\n",
    "            death_rates.append(death_rate)\n",
    "            \n",
    "\n",
    "\n",
    "    x = pd.DataFrame(outputs).mean(0).loc[to_show].to_frame().to_numpy().flatten()\n",
    "    base_r_rates.append(x[0])\n",
    "    effective_r_rates.append(x[1])\n",
    "    relevant_death_rate_sum = sum(n for n in death_rates if n != -1)\n",
    "    relevant_death_rate_count = sum(1 for n in death_rates if n != -1)\n",
    "    dr = relevant_death_rate_sum / relevant_death_rate_count\n",
    "    av_mortality_rates.append(dr)\n",
    "\n",
    "print(len(base_r_rates))"
   ]
  },
  {
   "cell_type": "code",
   "execution_count": null,
   "metadata": {},
   "outputs": [],
   "source": [
    "import matplotlib.pyplot as plt\n",
    "%matplotlib inline"
   ]
  },
  {
   "cell_type": "code",
   "execution_count": null,
   "metadata": {},
   "outputs": [],
   "source": [
    "ax1 = plt.subplot(1,2,1)\n",
    "ax2 = plt.subplot(1,2,2)\n",
    "\n",
    "x = np.linspace(0.4,1,100)\n",
    "y1 = [base_r_rates, effective_r_rates]\n",
    "y2 = [av_mortality_rates]\n",
    "\n",
    "ax1.plot(x, y1)\n",
    "ax2.plot(x, y2)\n"
   ]
  }
 ],
 "metadata": {
  "kernelspec": {
   "display_name": "Python 3",
   "language": "python",
   "name": "python3"
  },
  "language_info": {
   "codemirror_mode": {
    "name": "ipython",
    "version": 3
   },
   "file_extension": ".py",
   "mimetype": "text/x-python",
   "name": "python",
   "nbconvert_exporter": "python",
   "pygments_lexer": "ipython3",
   "version": "3.7.3"
  }
 },
 "nbformat": 4,
 "nbformat_minor": 4
}
