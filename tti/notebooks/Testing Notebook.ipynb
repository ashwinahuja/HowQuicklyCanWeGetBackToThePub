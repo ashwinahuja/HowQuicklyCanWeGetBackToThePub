{
 "cells": [
  {
   "cell_type": "code",
   "execution_count": 1,
   "metadata": {},
   "outputs": [
    {
     "name": "stdout",
     "output_type": "stream",
     "text": [
      "/Users/ashwin/Desktop/College Work/Fourth Year/L48/GroupProject/tti\n"
     ]
    }
   ],
   "source": [
    "%pwd\n",
    "%cd /Users/ashwin/Desktop/College Work/Fourth Year/L48/GroupProject/tti"
   ]
  },
  {
   "cell_type": "code",
   "execution_count": 2,
   "metadata": {},
   "outputs": [
    {
     "data": {
      "text/plain": [
       "<module 'tti_explorer.contacts' from '/Users/ashwin/Desktop/College Work/Fourth Year/L48/GroupProject/tti/tti_explorer/contacts.py'>"
      ]
     },
     "execution_count": 2,
     "metadata": {},
     "output_type": "execute_result"
    }
   ],
   "source": [
    "import os\n",
    "\n",
    "import numpy as np\n",
    "import pandas as pd\n",
    "from tqdm.notebook import trange\n",
    "from tqdm import tqdm\n",
    "import importlib\n",
    "\n",
    "import tti_explorer\n",
    "from tti_explorer import config, utils\n",
    "from tti_explorer.case import simulate_case, CaseFactors\n",
    "from tti_explorer.contacts import EmpiricalContactsSimulator\n",
    "from tti_explorer.strategies import TTIFlowModel, RETURN_KEYS\n",
    "import matplotlib.pyplot as plt\n",
    "\n",
    "%matplotlib inline\n",
    "\n",
    "importlib.reload(tti_explorer)\n",
    "importlib.reload(tti_explorer.config)\n",
    "importlib.reload(tti_explorer.utils)\n",
    "importlib.reload(tti_explorer.case)\n",
    "importlib.reload(tti_explorer.strategies)\n",
    "importlib.reload(tti_explorer.contacts)"
   ]
  },
  {
   "cell_type": "code",
   "execution_count": 3,
   "metadata": {},
   "outputs": [],
   "source": [
    "def print_doc(func):\n",
    "    print(func.__doc__)"
   ]
  },
  {
   "cell_type": "code",
   "execution_count": 4,
   "metadata": {},
   "outputs": [],
   "source": [
    "name = 'S3_test_based_TTI'\n",
    "rng = np.random.RandomState(0)\n",
    "case_config = config.get_case_config(\"delve\")\n",
    "#case_config = config.get_case_config(\"delve_mostly_old\")\n",
    "#case_config = config.get_case_config(\"delve_mostly_twenties\")\n",
    "contacts_config = config.get_contacts_config(\"delve\")\n",
    "policy_config = config.get_strategy_configs(\"delve\", name)[name]\n",
    "factor_config = utils.get_sub_dictionary(policy_config, config.DELVE_CASE_FACTOR_KEYS)\n",
    "strategy_config = utils.get_sub_dictionary(policy_config, config.DELVE_STRATEGY_FACTOR_KEYS)"
   ]
  },
  {
   "cell_type": "code",
   "execution_count": 5,
   "metadata": {},
   "outputs": [],
   "source": [
    "def load_csv(pth):\n",
    "    return np.loadtxt(pth, dtype=int, skiprows=1, delimiter=\",\")"
   ]
  },
  {
   "cell_type": "code",
   "execution_count": 6,
   "metadata": {},
   "outputs": [],
   "source": [
    "path_to_bbc_data = os.path.join(\"data\", \"processed\")\n",
    "\n",
    "child_no_school = load_csv(os.path.join(path_to_bbc_data, \"childnoschool.csv\"))\n",
    "child_school = load_csv(os.path.join(path_to_bbc_data, \"childschool.csv\"))\n",
    "university = load_csv(os.path.join(path_to_bbc_data, \"university.csv\"))\n",
    "twenties = load_csv(os.path.join(path_to_bbc_data, \"twenties.csv\"))\n",
    "thirties_to_fifties = load_csv(os.path.join(path_to_bbc_data, \"thirtiestofifties.csv\"))\n",
    "fifties_to_seventies = load_csv(os.path.join(path_to_bbc_data, \"fiftiestoseventies.csv\"))\n",
    "seventy_plus = load_csv(os.path.join(path_to_bbc_data, \"seventyplus.csv\"))"
   ]
  },
  {
   "cell_type": "code",
   "execution_count": 7,
   "metadata": {},
   "outputs": [],
   "source": [
    "double_dose = False\n",
    "vaccine_strategy = 'gov'\n",
    "#Vaccine strategies are: none, all, gov, young_inc_children, \n",
    "#                        young_exc_children"
   ]
  },
  {
   "cell_type": "code",
   "execution_count": 8,
   "metadata": {},
   "outputs": [],
   "source": [
    "simulate_contacts = EmpiricalContactsSimulator(child_no_school, child_school, university, twenties, thirties_to_fifties, fifties_to_seventies, seventy_plus, double_dose, vaccine_strategy, rng)\n",
    "tti_model = TTIFlowModel(rng, **strategy_config)"
   ]
  },
  {
   "cell_type": "code",
   "execution_count": 9,
   "metadata": {},
   "outputs": [
    {
     "name": "stderr",
     "output_type": "stream",
     "text": [
      "100%|██████████| 1000/1000 [00:14<00:00, 69.45it/s]\n"
     ]
    }
   ],
   "source": [
    "n_seperate_starting_cases = 1000\n",
    "n_repetitions = 10\n",
    "outputs = list()\n",
    "death_rates = []\n",
    "\n",
    "for i in tqdm(range(n_seperate_starting_cases)):\n",
    "    old_probs = []\n",
    "    for i in range(n_repetitions):\n",
    "        case = simulate_case(rng, p_for_categories_continued=old_probs, **case_config)\n",
    "        case_factors = CaseFactors.simulate_from(rng, case, **factor_config)\n",
    "        (contacts, old_probs, death_rate) = simulate_contacts(case, double_dose, vaccine_strategy, None, **contacts_config)\n",
    "        res = tti_model(case, contacts, case_factors)\n",
    "        outputs.append(res)\n",
    "        death_rates.append(death_rate)"
   ]
  },
  {
   "cell_type": "code",
   "execution_count": 10,
   "metadata": {},
   "outputs": [
    {
     "name": "stdout",
     "output_type": "stream",
     "text": [
      "Average Mortality Rate: 3.82%\n",
      "Base R: 3.524\n",
      "Effective R: 1.106\n"
     ]
    }
   ],
   "source": [
    "to_show = [\n",
    "    RETURN_KEYS.base_r,\n",
    "    RETURN_KEYS.reduced_r\n",
    "]\n",
    "\n",
    "x = pd.DataFrame(outputs).mean(0).loc[to_show].to_frame().to_numpy().flatten()\n",
    "base_r = x[0]\n",
    "effective_r = x[1]\n",
    "relevant_death_rate_sum = sum(n for n in death_rates if n != -1)\n",
    "relevant_death_rate_count = sum(1 for n in death_rates if n != -1)\n",
    "dr = relevant_death_rate_sum / relevant_death_rate_count\n",
    "\n",
    "print(\"Average Mortality Rate: \" + str(round(dr*100,2)) + \"%\")\n",
    "print(\"Base R: \" + str(round(base_r, 3)))\n",
    "print(\"Effective R: \" + str(round(effective_r, 3)))"
   ]
  },
  {
   "cell_type": "code",
   "execution_count": 11,
   "metadata": {},
   "outputs": [
    {
     "name": "stderr",
     "output_type": "stream",
     "text": [
      "100%|██████████| 99/99 [03:02<00:00,  1.84s/it]"
     ]
    },
    {
     "name": "stdout",
     "output_type": "stream",
     "text": [
      "99\n"
     ]
    },
    {
     "name": "stderr",
     "output_type": "stream",
     "text": [
      "\n"
     ]
    }
   ],
   "source": [
    "base_r_rates = []\n",
    "effective_r_rates = []\n",
    "av_mortality_rates = []\n",
    "to_show = [\n",
    "    RETURN_KEYS.base_r,\n",
    "    RETURN_KEYS.reduced_r\n",
    "]\n",
    "\n",
    "for immunity in tqdm(np.linspace(0,0.99,99)):\n",
    "    n_seperate_starting_cases = 100\n",
    "    n_repetitions = 10\n",
    "    outputs = list()\n",
    "    death_rates = []\n",
    "    \n",
    "    for i in range(n_seperate_starting_cases):\n",
    "        old_probs = []\n",
    "        for i in range(n_repetitions):\n",
    "            case = simulate_case(rng, p_for_categories_continued=old_probs, **case_config)\n",
    "            case_factors = CaseFactors.simulate_from(rng, case, **factor_config)\n",
    "            (contacts, old_probs, death_rate) = simulate_contacts(case, None, immunity, None, **contacts_config)\n",
    "            res = tti_model(case, contacts, case_factors)\n",
    "            outputs.append(res)\n",
    "            death_rates.append(death_rate)\n",
    "            \n",
    "\n",
    "\n",
    "    x = pd.DataFrame(outputs).mean(0).loc[to_show].to_frame().to_numpy().flatten()\n",
    "    base_r_rates.append(x[0])\n",
    "    effective_r_rates.append(x[1])\n",
    "    relevant_death_rate_sum = sum(n for n in death_rates if n != -1)\n",
    "    relevant_death_rate_count = sum(1 for n in death_rates if n != -1)\n",
    "    dr = relevant_death_rate_sum / relevant_death_rate_count\n",
    "    av_mortality_rates.append(dr)\n",
    "\n",
    "print(len(base_r_rates))"
   ]
  },
  {
   "cell_type": "code",
   "execution_count": 17,
   "metadata": {},
   "outputs": [
    {
     "ename": "ValueError",
     "evalue": "x and y must have same first dimension, but have shapes (99,) and (100,)",
     "output_type": "error",
     "traceback": [
      "\u001b[0;31m---------------------------------------------------------------------------\u001b[0m",
      "\u001b[0;31mValueError\u001b[0m                                Traceback (most recent call last)",
      "\u001b[0;32m<ipython-input-17-3142ce6309ec>\u001b[0m in \u001b[0;36m<module>\u001b[0;34m\u001b[0m\n\u001b[1;32m      1\u001b[0m \u001b[0mfig\u001b[0m\u001b[0;34m,\u001b[0m \u001b[0max\u001b[0m \u001b[0;34m=\u001b[0m \u001b[0mplt\u001b[0m\u001b[0;34m.\u001b[0m\u001b[0msubplots\u001b[0m\u001b[0;34m(\u001b[0m\u001b[0;34m)\u001b[0m\u001b[0;34m\u001b[0m\u001b[0;34m\u001b[0m\u001b[0m\n\u001b[0;32m----> 2\u001b[0;31m \u001b[0max\u001b[0m\u001b[0;34m.\u001b[0m\u001b[0mplot\u001b[0m\u001b[0;34m(\u001b[0m\u001b[0mnp\u001b[0m\u001b[0;34m.\u001b[0m\u001b[0mlinspace\u001b[0m\u001b[0;34m(\u001b[0m\u001b[0;36m0\u001b[0m\u001b[0;34m,\u001b[0m\u001b[0;36m.99\u001b[0m\u001b[0;34m,\u001b[0m\u001b[0;36m99\u001b[0m\u001b[0;34m)\u001b[0m\u001b[0;34m,\u001b[0m \u001b[0mbase_r_rates\u001b[0m\u001b[0;34m,\u001b[0m \u001b[0mcolor\u001b[0m \u001b[0;34m=\u001b[0m \u001b[0;34m\"red\"\u001b[0m\u001b[0;34m,\u001b[0m \u001b[0mlabel\u001b[0m\u001b[0;34m=\u001b[0m\u001b[0;34m\"Base R Rates\"\u001b[0m\u001b[0;34m)\u001b[0m\u001b[0;34m\u001b[0m\u001b[0;34m\u001b[0m\u001b[0m\n\u001b[0m\u001b[1;32m      3\u001b[0m \u001b[0max\u001b[0m\u001b[0;34m.\u001b[0m\u001b[0mplot\u001b[0m\u001b[0;34m(\u001b[0m\u001b[0mnp\u001b[0m\u001b[0;34m.\u001b[0m\u001b[0mlinspace\u001b[0m\u001b[0;34m(\u001b[0m\u001b[0;36m0\u001b[0m\u001b[0;34m,\u001b[0m\u001b[0;36m.99\u001b[0m\u001b[0;34m,\u001b[0m\u001b[0;36m99\u001b[0m\u001b[0;34m)\u001b[0m\u001b[0;34m,\u001b[0m \u001b[0meffective_r_rates\u001b[0m\u001b[0;34m,\u001b[0m \u001b[0mcolor\u001b[0m \u001b[0;34m=\u001b[0m \u001b[0;34m\"orange\"\u001b[0m\u001b[0;34m,\u001b[0m \u001b[0mlabel\u001b[0m\u001b[0;34m=\u001b[0m\u001b[0;34m\"Effective R Rates\"\u001b[0m\u001b[0;34m)\u001b[0m\u001b[0;34m\u001b[0m\u001b[0;34m\u001b[0m\u001b[0m\n\u001b[1;32m      4\u001b[0m \u001b[0max\u001b[0m\u001b[0;34m.\u001b[0m\u001b[0mset_xlabel\u001b[0m\u001b[0;34m(\u001b[0m\u001b[0;34m\"Population Immunity\"\u001b[0m\u001b[0;34m)\u001b[0m\u001b[0;34m\u001b[0m\u001b[0;34m\u001b[0m\u001b[0m\n\u001b[1;32m      5\u001b[0m \u001b[0max\u001b[0m\u001b[0;34m.\u001b[0m\u001b[0mset_ylabel\u001b[0m\u001b[0;34m(\u001b[0m\u001b[0;34m\"R rate\"\u001b[0m\u001b[0;34m)\u001b[0m\u001b[0;34m\u001b[0m\u001b[0;34m\u001b[0m\u001b[0m\n",
      "\u001b[0;32m/usr/local/lib/python3.8/site-packages/matplotlib/axes/_axes.py\u001b[0m in \u001b[0;36mplot\u001b[0;34m(self, scalex, scaley, data, *args, **kwargs)\u001b[0m\n\u001b[1;32m   1741\u001b[0m         \"\"\"\n\u001b[1;32m   1742\u001b[0m         \u001b[0mkwargs\u001b[0m \u001b[0;34m=\u001b[0m \u001b[0mcbook\u001b[0m\u001b[0;34m.\u001b[0m\u001b[0mnormalize_kwargs\u001b[0m\u001b[0;34m(\u001b[0m\u001b[0mkwargs\u001b[0m\u001b[0;34m,\u001b[0m \u001b[0mmlines\u001b[0m\u001b[0;34m.\u001b[0m\u001b[0mLine2D\u001b[0m\u001b[0;34m)\u001b[0m\u001b[0;34m\u001b[0m\u001b[0;34m\u001b[0m\u001b[0m\n\u001b[0;32m-> 1743\u001b[0;31m         \u001b[0mlines\u001b[0m \u001b[0;34m=\u001b[0m \u001b[0;34m[\u001b[0m\u001b[0;34m*\u001b[0m\u001b[0mself\u001b[0m\u001b[0;34m.\u001b[0m\u001b[0m_get_lines\u001b[0m\u001b[0;34m(\u001b[0m\u001b[0;34m*\u001b[0m\u001b[0margs\u001b[0m\u001b[0;34m,\u001b[0m \u001b[0mdata\u001b[0m\u001b[0;34m=\u001b[0m\u001b[0mdata\u001b[0m\u001b[0;34m,\u001b[0m \u001b[0;34m**\u001b[0m\u001b[0mkwargs\u001b[0m\u001b[0;34m)\u001b[0m\u001b[0;34m]\u001b[0m\u001b[0;34m\u001b[0m\u001b[0;34m\u001b[0m\u001b[0m\n\u001b[0m\u001b[1;32m   1744\u001b[0m         \u001b[0;32mfor\u001b[0m \u001b[0mline\u001b[0m \u001b[0;32min\u001b[0m \u001b[0mlines\u001b[0m\u001b[0;34m:\u001b[0m\u001b[0;34m\u001b[0m\u001b[0;34m\u001b[0m\u001b[0m\n\u001b[1;32m   1745\u001b[0m             \u001b[0mself\u001b[0m\u001b[0;34m.\u001b[0m\u001b[0madd_line\u001b[0m\u001b[0;34m(\u001b[0m\u001b[0mline\u001b[0m\u001b[0;34m)\u001b[0m\u001b[0;34m\u001b[0m\u001b[0;34m\u001b[0m\u001b[0m\n",
      "\u001b[0;32m/usr/local/lib/python3.8/site-packages/matplotlib/axes/_base.py\u001b[0m in \u001b[0;36m__call__\u001b[0;34m(self, data, *args, **kwargs)\u001b[0m\n\u001b[1;32m    271\u001b[0m                 \u001b[0mthis\u001b[0m \u001b[0;34m+=\u001b[0m \u001b[0margs\u001b[0m\u001b[0;34m[\u001b[0m\u001b[0;36m0\u001b[0m\u001b[0;34m]\u001b[0m\u001b[0;34m,\u001b[0m\u001b[0;34m\u001b[0m\u001b[0;34m\u001b[0m\u001b[0m\n\u001b[1;32m    272\u001b[0m                 \u001b[0margs\u001b[0m \u001b[0;34m=\u001b[0m \u001b[0margs\u001b[0m\u001b[0;34m[\u001b[0m\u001b[0;36m1\u001b[0m\u001b[0;34m:\u001b[0m\u001b[0;34m]\u001b[0m\u001b[0;34m\u001b[0m\u001b[0;34m\u001b[0m\u001b[0m\n\u001b[0;32m--> 273\u001b[0;31m             \u001b[0;32myield\u001b[0m \u001b[0;32mfrom\u001b[0m \u001b[0mself\u001b[0m\u001b[0;34m.\u001b[0m\u001b[0m_plot_args\u001b[0m\u001b[0;34m(\u001b[0m\u001b[0mthis\u001b[0m\u001b[0;34m,\u001b[0m \u001b[0mkwargs\u001b[0m\u001b[0;34m)\u001b[0m\u001b[0;34m\u001b[0m\u001b[0;34m\u001b[0m\u001b[0m\n\u001b[0m\u001b[1;32m    274\u001b[0m \u001b[0;34m\u001b[0m\u001b[0m\n\u001b[1;32m    275\u001b[0m     \u001b[0;32mdef\u001b[0m \u001b[0mget_next_color\u001b[0m\u001b[0;34m(\u001b[0m\u001b[0mself\u001b[0m\u001b[0;34m)\u001b[0m\u001b[0;34m:\u001b[0m\u001b[0;34m\u001b[0m\u001b[0;34m\u001b[0m\u001b[0m\n",
      "\u001b[0;32m/usr/local/lib/python3.8/site-packages/matplotlib/axes/_base.py\u001b[0m in \u001b[0;36m_plot_args\u001b[0;34m(self, tup, kwargs)\u001b[0m\n\u001b[1;32m    397\u001b[0m \u001b[0;34m\u001b[0m\u001b[0m\n\u001b[1;32m    398\u001b[0m         \u001b[0;32mif\u001b[0m \u001b[0mx\u001b[0m\u001b[0;34m.\u001b[0m\u001b[0mshape\u001b[0m\u001b[0;34m[\u001b[0m\u001b[0;36m0\u001b[0m\u001b[0;34m]\u001b[0m \u001b[0;34m!=\u001b[0m \u001b[0my\u001b[0m\u001b[0;34m.\u001b[0m\u001b[0mshape\u001b[0m\u001b[0;34m[\u001b[0m\u001b[0;36m0\u001b[0m\u001b[0;34m]\u001b[0m\u001b[0;34m:\u001b[0m\u001b[0;34m\u001b[0m\u001b[0;34m\u001b[0m\u001b[0m\n\u001b[0;32m--> 399\u001b[0;31m             raise ValueError(f\"x and y must have same first dimension, but \"\n\u001b[0m\u001b[1;32m    400\u001b[0m                              f\"have shapes {x.shape} and {y.shape}\")\n\u001b[1;32m    401\u001b[0m         \u001b[0;32mif\u001b[0m \u001b[0mx\u001b[0m\u001b[0;34m.\u001b[0m\u001b[0mndim\u001b[0m \u001b[0;34m>\u001b[0m \u001b[0;36m2\u001b[0m \u001b[0;32mor\u001b[0m \u001b[0my\u001b[0m\u001b[0;34m.\u001b[0m\u001b[0mndim\u001b[0m \u001b[0;34m>\u001b[0m \u001b[0;36m2\u001b[0m\u001b[0;34m:\u001b[0m\u001b[0;34m\u001b[0m\u001b[0;34m\u001b[0m\u001b[0m\n",
      "\u001b[0;31mValueError\u001b[0m: x and y must have same first dimension, but have shapes (99,) and (100,)"
     ]
    },
    {
     "data": {
      "image/png": "[encoded data removed]",
      "text/plain": [
       "<Figure size 432x288 with 1 Axes>"
      ]
     },
     "metadata": {
      "needs_background": "light"
     },
     "output_type": "display_data"
    }
   ],
   "source": [
    "fig, ax = plt.subplots()\n",
    "ax.plot(np.linspace(0,.99,99), base_r_rates, color = \"red\", label=\"Base R Rates\")\n",
    "ax.plot(np.linspace(0,.99,99), effective_r_rates, color = \"orange\", label=\"Effective R Rates\")\n",
    "ax.set_xlabel(\"Population Immunity\")\n",
    "ax.set_ylabel(\"R rate\")\n",
    "ax2 = ax.twinx()  \n",
    "ax2.set_ylabel(\"Mortality Rate\")\n",
    "ax2.plot(np.linspace(0,.99,99), av_mortality_rates, color = \"blue\", label=\"Mortality Rates\")\n",
    "ax2.set_ylim(0, 0.1)\n",
    "fig.tight_layout() \n",
    "plt.figure()\n",
    "plt.show()"
   ]
  },
  {
   "cell_type": "code",
   "execution_count": 13,
   "metadata": {},
   "outputs": [
    {
     "name": "stderr",
     "output_type": "stream",
     "text": [
      "100%|██████████| 100/100 [03:04<00:00,  1.85s/it]"
     ]
    },
    {
     "name": "stdout",
     "output_type": "stream",
     "text": [
      "100\n"
     ]
    },
    {
     "name": "stderr",
     "output_type": "stream",
     "text": [
      "\n"
     ]
    }
   ],
   "source": [
    "# vaccine efficacy\n",
    "vaccine_strategy = 'all'\n",
    "#Vaccine strategies are: none, all, gov, young_inc_children, \n",
    "#                        young_exc_children\n",
    "\n",
    "base_r_rates = []\n",
    "effective_r_rates = []\n",
    "av_mortality_rates = []\n",
    "to_show = [\n",
    "    RETURN_KEYS.base_r,\n",
    "    RETURN_KEYS.reduced_r\n",
    "]\n",
    "\n",
    "for vaccine_efficacy in tqdm(np.linspace(0.2,1,100)):\n",
    "    n_seperate_starting_cases = 100\n",
    "    n_repetitions = 10\n",
    "    outputs = list()\n",
    "    death_rates = []\n",
    "    \n",
    "    for i in range(n_seperate_starting_cases):\n",
    "        old_probs = []\n",
    "        for i in range(n_repetitions):\n",
    "            case = simulate_case(rng, p_for_categories_continued=old_probs, **case_config)\n",
    "            case_factors = CaseFactors.simulate_from(rng, case, **factor_config)\n",
    "            (contacts, old_probs, death_rate) = simulate_contacts(case, False, vaccine_strategy, vaccine_efficacy, **contacts_config)\n",
    "            res = tti_model(case, contacts, case_factors)\n",
    "            outputs.append(res)\n",
    "            death_rates.append(death_rate)\n",
    "            \n",
    "\n",
    "\n",
    "    x = pd.DataFrame(outputs).mean(0).loc[to_show].to_frame().to_numpy().flatten()\n",
    "    base_r_rates.append(x[0])\n",
    "    effective_r_rates.append(x[1])\n",
    "    relevant_death_rate_sum = sum(n for n in death_rates if n != -1)\n",
    "    relevant_death_rate_count = sum(1 for n in death_rates if n != -1)\n",
    "    dr = relevant_death_rate_sum / relevant_death_rate_count\n",
    "    av_mortality_rates.append(dr)\n",
    "\n",
    "print(len(base_r_rates))"
   ]
  },
  {
   "cell_type": "code",
   "execution_count": 18,
   "metadata": {},
   "outputs": [
    {
     "data": {
      "image/png": "[encoded data removed]",
      "text/plain": [
       "<Figure size 432x288 with 2 Axes>"
      ]
     },
     "metadata": {
      "needs_background": "light"
     },
     "output_type": "display_data"
    },
    {
     "data": {
      "text/plain": [
       "<Figure size 432x288 with 0 Axes>"
      ]
     },
     "metadata": {},
     "output_type": "display_data"
    }
   ],
   "source": [
    "fig, ax = plt.subplots()\n",
    "ax.plot(np.linspace(0.4,1,100), base_r_rates, color = \"red\", label=\"Base R Rates\")\n",
    "ax.plot(np.linspace(0.4,1,100), effective_r_rates, color = \"orange\", label=\"Effective R Rates\")\n",
    "ax.set_xlabel(\"Vaccine Efficacy\")\n",
    "ax.set_ylabel(\"R rate\")\n",
    "ax2 = ax.twinx()  \n",
    "ax2.set_ylabel(\"Mortality Rate\")\n",
    "ax2.plot(np.linspace(0.4,1,100), av_mortality_rates, color = \"blue\", label=\"Mortality Rates\")\n",
    "ax2.set_ylim(0, 0.1)\n",
    "fig.tight_layout() \n",
    "plt.figure()\n",
    "plt.show()\n"
   ]
  },
  {
   "cell_type": "code",
   "execution_count": 16,
   "metadata": {},
   "outputs": [
    {
     "name": "stdout",
     "output_type": "stream",
     "text": [
      "\n",
      "CONFIG: (Double Dose: True, Strategy: none)\n",
      "Base R Rate: 3.84\n",
      "Effective R Rate: 1.15\n",
      "Mortality Rate: 0.0393\n",
      "\n",
      "CONFIG: (Double Dose: True, Strategy: all)\n",
      "Base R Rate: 0.99\n",
      "Effective R Rate: 0.35\n",
      "Mortality Rate: 0.0392\n",
      "\n",
      "CONFIG: (Double Dose: True, Strategy: gov)\n",
      "Base R Rate: 4.73\n",
      "Effective R Rate: 1.46\n",
      "Mortality Rate: 0.0376\n",
      "\n",
      "CONFIG: (Double Dose: True, Strategy: young_inc_children)\n",
      "Base R Rate: 3.18\n",
      "Effective R Rate: 1.02\n",
      "Mortality Rate: 0.0369\n",
      "\n",
      "CONFIG: (Double Dose: True, Strategy: young_exc_children)\n",
      "Base R Rate: 3.49\n",
      "Effective R Rate: 1.3\n",
      "Mortality Rate: 0.0372\n",
      "\n",
      "CONFIG: (Double Dose: False, Strategy: none)\n",
      "Base R Rate: 3.93\n",
      "Effective R Rate: 1.58\n",
      "Mortality Rate: 0.0379\n",
      "\n",
      "CONFIG: (Double Dose: False, Strategy: all)\n",
      "Base R Rate: 1.19\n",
      "Effective R Rate: 0.28\n",
      "Mortality Rate: 0.0383\n",
      "\n",
      "CONFIG: (Double Dose: False, Strategy: gov)\n",
      "Base R Rate: 2.97\n",
      "Effective R Rate: 1.01\n",
      "Mortality Rate: 0.0387\n",
      "\n",
      "CONFIG: (Double Dose: False, Strategy: young_inc_children)\n",
      "Base R Rate: 2.74\n",
      "Effective R Rate: 0.91\n",
      "Mortality Rate: 0.0386\n",
      "\n",
      "CONFIG: (Double Dose: False, Strategy: young_exc_children)\n",
      "Base R Rate: 3.52\n",
      "Effective R Rate: 1.45\n",
      "Mortality Rate: 0.0385\n"
     ]
    }
   ],
   "source": [
    "configs = [(True, 'none'), (True, 'all'), (True, 'gov'), (True, 'young_inc_children'), (True, 'young_exc_children'),\n",
    "          (False, 'none'), (False, 'all'), (False, 'gov'), (False, 'young_inc_children'), (False, 'young_exc_children')]\n",
    "\n",
    "to_show = [\n",
    "    RETURN_KEYS.base_r,\n",
    "    RETURN_KEYS.reduced_r\n",
    "]\n",
    "\n",
    "for c in configs:\n",
    "    double_dose = c[0]\n",
    "    vaccine_strategy = c[1]\n",
    "    n_seperate_starting_cases = 100\n",
    "    n_repetitions = 10\n",
    "    outputs = list()\n",
    "    death_rates = []\n",
    "    \n",
    "    for i in range(n_seperate_starting_cases):\n",
    "        old_probs = []\n",
    "        for i in range(n_repetitions):\n",
    "            case = simulate_case(rng, p_for_categories_continued=old_probs, **case_config)\n",
    "            case_factors = CaseFactors.simulate_from(rng, case, **factor_config)\n",
    "            (contacts, old_probs, death_rate) = simulate_contacts(case, double_dose, vaccine_strategy, None, **contacts_config)\n",
    "            res = tti_model(case, contacts, case_factors)\n",
    "            outputs.append(res)\n",
    "            death_rates.append(death_rate)\n",
    "            \n",
    "\n",
    "\n",
    "    x = pd.DataFrame(outputs).mean(0).loc[to_show].to_frame().to_numpy().flatten()\n",
    "    print()\n",
    "    print(\"CONFIG: (Double Dose: \" + str(c[0]) + \", Strategy: \" + str(c[1]) + \")\")\n",
    "    print(\"Base R Rate: \" + str(round(x[0], 2)))\n",
    "    print(\"Effective R Rate: \" + str(round(x[1], 2)))\n",
    "    relevant_death_rate_sum = sum(n for n in death_rates if n != -1)\n",
    "    relevant_death_rate_count = sum(1 for n in death_rates if n != -1)\n",
    "    dr = relevant_death_rate_sum / relevant_death_rate_count\n",
    "    print(\"Mortality Rate: \" + str(round(dr, 4)))\n",
    "    "
   ]
  },
  {
   "cell_type": "code",
   "execution_count": null,
   "metadata": {},
   "outputs": [],
   "source": []
  }
 ],
 "metadata": {
  "kernelspec": {
   "display_name": "Python 3",
   "language": "python",
   "name": "python3"
  },
  "language_info": {
   "codemirror_mode": {
    "name": "ipython",
    "version": 3
   },
   "file_extension": ".py",
   "mimetype": "text/x-python",
   "name": "python",
   "nbconvert_exporter": "python",
   "pygments_lexer": "ipython3",
   "version": "3.8.6"
  }
 },
 "nbformat": 4,
 "nbformat_minor": 4
}
