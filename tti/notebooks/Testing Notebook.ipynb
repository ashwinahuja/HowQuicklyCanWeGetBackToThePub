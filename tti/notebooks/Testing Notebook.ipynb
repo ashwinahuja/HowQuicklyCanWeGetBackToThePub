{
 "cells": [
  {
   "cell_type": "code",
   "execution_count": 1,
   "metadata": {},
   "outputs": [
    {
     "name": "stdout",
     "output_type": "stream",
     "text": [
      "/Users/elin/Documents/cam/PWML/L48Project/tti\n"
     ]
    }
   ],
   "source": [
    "%pwd\n",
    "%cd /Users/elin/Documents/cam/PWML/L48Project/tti"
   ]
  },
  {
   "cell_type": "code",
   "execution_count": 2,
   "metadata": {},
   "outputs": [
    {
     "data": {
      "text/plain": [
       "<module 'tti_explorer.contacts' from '/Users/elin/Documents/cam/PWML/L48Project/tti/tti_explorer/contacts.py'>"
      ]
     },
     "execution_count": 2,
     "metadata": {},
     "output_type": "execute_result"
    }
   ],
   "source": [
    "import os\n",
    "\n",
    "import numpy as np\n",
    "import pandas as pd\n",
    "from tqdm.notebook import trange\n",
    "from tqdm import tqdm\n",
    "import importlib\n",
    "import matplotlib.pyplot as plt\n",
    "\n",
    "import tti_explorer\n",
    "from tti_explorer import config, utils\n",
    "from tti_explorer.case import simulate_case, CaseFactors\n",
    "from tti_explorer.contacts import EmpiricalContactsSimulator\n",
    "from tti_explorer.strategies import TTIFlowModel, RETURN_KEYS\n",
    "\n",
    "importlib.reload(tti_explorer)\n",
    "importlib.reload(tti_explorer.config)\n",
    "importlib.reload(tti_explorer.utils)\n",
    "importlib.reload(tti_explorer.case)\n",
    "importlib.reload(tti_explorer.strategies)\n",
    "importlib.reload(tti_explorer.contacts)\n"
   ]
  },
  {
   "cell_type": "code",
   "execution_count": 3,
   "metadata": {},
   "outputs": [],
   "source": [
    "def print_doc(func):\n",
    "    print(func.__doc__)"
   ]
  },
  {
   "cell_type": "code",
   "execution_count": 4,
   "metadata": {},
   "outputs": [
    {
     "name": "stdout",
     "output_type": "stream",
     "text": [
      "{'home_sar': 0.3, 'work_sar': 0.045, 'other_sar': 0.045, 'period': 10, 'asymp_factor': 0.5}\n"
     ]
    }
   ],
   "source": [
    "name = 'S3_test_based_TTI'\n",
    "rng = np.random.RandomState(0)\n",
    "#case_config = config.get_case_config(\"delve_mostly_uni\")\n",
    "case_config = config.get_case_config(\"delve_mostly_old\")\n",
    "#case_config = config.get_case_config(\"delve_mostly_twenties\")\n",
    "contacts_config = config.get_contacts_config(\"delve\")\n",
    "print(contacts_config)\n",
    "policy_config = config.get_strategy_configs(\"delve\", name)[name]\n",
    "factor_config = utils.get_sub_dictionary(policy_config, config.DELVE_CASE_FACTOR_KEYS)\n",
    "strategy_config = utils.get_sub_dictionary(policy_config, config.DELVE_STRATEGY_FACTOR_KEYS)"
   ]
  },
  {
   "cell_type": "code",
   "execution_count": 5,
   "metadata": {},
   "outputs": [],
   "source": [
    "def load_csv(pth):\n",
    "    return np.loadtxt(pth, dtype=int, skiprows=1, delimiter=\",\")"
   ]
  },
  {
   "cell_type": "code",
   "execution_count": 6,
   "metadata": {},
   "outputs": [],
   "source": [
    "path_to_bbc_data = os.path.join(\"data\", \"processed\")\n",
    "\n",
    "child_no_school = load_csv(os.path.join(path_to_bbc_data, \"childnoschool.csv\"))\n",
    "child_school = load_csv(os.path.join(path_to_bbc_data, \"childschool.csv\"))\n",
    "university = load_csv(os.path.join(path_to_bbc_data, \"university.csv\"))\n",
    "twenties = load_csv(os.path.join(path_to_bbc_data, \"twenties.csv\"))\n",
    "thirties_to_fifties = load_csv(os.path.join(path_to_bbc_data, \"thirtiestofifties.csv\"))\n",
    "fifties_to_seventies = load_csv(os.path.join(path_to_bbc_data, \"fiftiestoseventies.csv\"))\n",
    "seventy_plus = load_csv(os.path.join(path_to_bbc_data, \"seventyplus.csv\"))"
   ]
  },
  {
   "cell_type": "code",
   "execution_count": 7,
   "metadata": {},
   "outputs": [],
   "source": [
    "simulate_contacts = EmpiricalContactsSimulator(child_no_school, child_school, university, twenties, thirties_to_fifties, fifties_to_seventies, seventy_plus, rng)\n",
    "tti_model = TTIFlowModel(rng, **strategy_config)"
   ]
  },
  {
   "cell_type": "code",
   "execution_count": 8,
   "metadata": {},
   "outputs": [
    {
     "name": "stderr",
     "output_type": "stream",
     "text": [
      "100%|██████████| 1000/1000 [00:10<00:00, 94.84it/s]\n"
     ]
    }
   ],
   "source": [
    "n_seperate_starting_cases = 1000\n",
    "n_repetitions = 10\n",
    "outputs = list()\n",
    "death_rates = []\n",
    "\n",
    "for i in tqdm(range(n_seperate_starting_cases)):\n",
    "    old_probs = []\n",
    "    for i in range(n_repetitions):\n",
    "        case = simulate_case(rng, p_for_categories_continued=old_probs, **case_config)\n",
    "        case_factors = CaseFactors.simulate_from(rng, case, **factor_config)\n",
    "        (contacts, old_probs, death_rate) = simulate_contacts(case, **contacts_config)\n",
    "        res = tti_model(case, contacts, case_factors)\n",
    "        outputs.append(res)\n",
    "        death_rates.append(death_rate)\n"
   ]
  },
  {
   "cell_type": "code",
   "execution_count": 9,
   "metadata": {},
   "outputs": [
    {
     "data": {
      "text/html": [
       "<div>\n",
       "<style scoped>\n",
       "    .dataframe tbody tr th:only-of-type {\n",
       "        vertical-align: middle;\n",
       "    }\n",
       "\n",
       "    .dataframe tbody tr th {\n",
       "        vertical-align: top;\n",
       "    }\n",
       "\n",
       "    .dataframe thead th {\n",
       "        text-align: right;\n",
       "    }\n",
       "</style>\n",
       "<table border=\"1\" class=\"dataframe\">\n",
       "  <thead>\n",
       "    <tr style=\"text-align: right;\">\n",
       "      <th></th>\n",
       "      <th>Simulation results: S3 test based TTI</th>\n",
       "    </tr>\n",
       "  </thead>\n",
       "  <tbody>\n",
       "    <tr>\n",
       "      <th>Base R</th>\n",
       "      <td>3.938</td>\n",
       "    </tr>\n",
       "    <tr>\n",
       "      <th>Effective R</th>\n",
       "      <td>1.326</td>\n",
       "    </tr>\n",
       "    <tr>\n",
       "      <th># Manual Traces (k per day)</th>\n",
       "      <td>107.604</td>\n",
       "    </tr>\n",
       "    <tr>\n",
       "      <th># App Traces (k per day)</th>\n",
       "      <td>15.324</td>\n",
       "    </tr>\n",
       "    <tr>\n",
       "      <th># Tests Needed (k per day)</th>\n",
       "      <td>90.132</td>\n",
       "    </tr>\n",
       "  </tbody>\n",
       "</table>\n",
       "</div>"
      ],
      "text/plain": [
       "                             Simulation results: S3 test based TTI\n",
       "Base R                                                       3.938\n",
       "Effective R                                                  1.326\n",
       "# Manual Traces (k per day)                                107.604\n",
       "# App Traces (k per day)                                    15.324\n",
       "# Tests Needed (k per day)                                  90.132"
      ]
     },
     "execution_count": 9,
     "metadata": {},
     "output_type": "execute_result"
    }
   ],
   "source": [
    "# This cell is mosltly just formatting results...\n",
    "to_show = [\n",
    "    RETURN_KEYS.base_r,\n",
    "    RETURN_KEYS.reduced_r,\n",
    "    RETURN_KEYS.man_trace,\n",
    "    RETURN_KEYS.app_trace,\n",
    "    RETURN_KEYS.tests\n",
    "]\n",
    "\n",
    "# scale factor to turn simulation numbers into UK population numbers\n",
    "nppl = case_config['infection_proportions']['nppl']\n",
    "scales = [1, 1, nppl, nppl, nppl]\n",
    "\n",
    "results = pd.DataFrame(\n",
    "    outputs\n",
    ").mean(\n",
    "    0\n",
    ").loc[\n",
    "    to_show\n",
    "].mul(\n",
    "    scales\n",
    ").to_frame(\n",
    "    name=f\"Simulation results: {name.replace('_', ' ')}\"\n",
    ").rename(\n",
    "    index=lambda x: x + \" (k per day)\" if x.startswith(\"#\") else x\n",
    ")\n",
    "\n",
    "results.round(3)"
   ]
  },
  {
   "cell_type": "code",
   "execution_count": 10,
   "metadata": {
    "scrolled": true
   },
   "outputs": [
    {
     "name": "stdout",
     "output_type": "stream",
     "text": [
      "Average Death Rate: 1.47%\n"
     ]
    }
   ],
   "source": [
    "relevant_death_rate_sum = sum(n for n in death_rates if n != -1)\n",
    "relevant_death_rate_count = sum(1 for n in death_rates if n != -1)\n",
    "dr = relevant_death_rate_sum / relevant_death_rate_count\n",
    "print(\"Average Death Rate: \" + str(round(dr*100,2)) + \"%\")"
   ]
  },
  {
   "cell_type": "markdown",
   "metadata": {},
   "source": [
    "# Sensitivity analysis for new variant"
   ]
  },
  {
   "cell_type": "code",
   "execution_count": 22,
   "metadata": {
    "scrolled": true
   },
   "outputs": [
    {
     "name": "stderr",
     "output_type": "stream",
     "text": [
      "  1%|          | 7/1000 [00:00<00:14, 69.27it/s]"
     ]
    },
    {
     "name": "stdout",
     "output_type": "stream",
     "text": [
      "{'home_sar': 0.3, 'work_sar': 0.045, 'other_sar': 0.045, 'period': 10, 'asymp_factor': 0.5}\n"
     ]
    },
    {
     "name": "stderr",
     "output_type": "stream",
     "text": [
      "100%|██████████| 1000/1000 [00:10<00:00, 97.82it/s]\n",
      "  1%|          | 9/1000 [00:00<00:11, 88.77it/s]"
     ]
    },
    {
     "name": "stdout",
     "output_type": "stream",
     "text": [
      "{'home_sar': 0.33, 'work_sar': 0.0495, 'other_sar': 0.0495, 'period': 10, 'asymp_factor': 0.5}\n"
     ]
    },
    {
     "name": "stderr",
     "output_type": "stream",
     "text": [
      "100%|██████████| 1000/1000 [00:09<00:00, 104.05it/s]\n",
      "  1%|          | 9/1000 [00:00<00:11, 84.21it/s]"
     ]
    },
    {
     "name": "stdout",
     "output_type": "stream",
     "text": [
      "{'home_sar': 0.36, 'work_sar': 0.054, 'other_sar': 0.054, 'period': 10, 'asymp_factor': 0.5}\n"
     ]
    },
    {
     "name": "stderr",
     "output_type": "stream",
     "text": [
      "100%|██████████| 1000/1000 [00:11<00:00, 89.81it/s]\n",
      "  1%|          | 7/1000 [00:00<00:15, 62.68it/s]"
     ]
    },
    {
     "name": "stdout",
     "output_type": "stream",
     "text": [
      "{'home_sar': 0.39, 'work_sar': 0.058499999999999996, 'other_sar': 0.058499999999999996, 'period': 10, 'asymp_factor': 0.5}\n"
     ]
    },
    {
     "name": "stderr",
     "output_type": "stream",
     "text": [
      "100%|██████████| 1000/1000 [00:11<00:00, 83.70it/s]\n",
      "  1%|          | 8/1000 [00:00<00:13, 74.93it/s]"
     ]
    },
    {
     "name": "stdout",
     "output_type": "stream",
     "text": [
      "{'home_sar': 0.42, 'work_sar': 0.063, 'other_sar': 0.063, 'period': 10, 'asymp_factor': 0.5}\n"
     ]
    },
    {
     "name": "stderr",
     "output_type": "stream",
     "text": [
      "100%|██████████| 1000/1000 [00:11<00:00, 84.25it/s]\n",
      "  1%|          | 8/1000 [00:00<00:12, 77.67it/s]"
     ]
    },
    {
     "name": "stdout",
     "output_type": "stream",
     "text": [
      "{'home_sar': 0.44999999999999996, 'work_sar': 0.0675, 'other_sar': 0.0675, 'period': 10, 'asymp_factor': 0.5}\n"
     ]
    },
    {
     "name": "stderr",
     "output_type": "stream",
     "text": [
      "100%|██████████| 1000/1000 [00:11<00:00, 90.58it/s]\n",
      "  1%|          | 8/1000 [00:00<00:12, 77.67it/s]"
     ]
    },
    {
     "name": "stdout",
     "output_type": "stream",
     "text": [
      "{'home_sar': 0.48, 'work_sar': 0.072, 'other_sar': 0.072, 'period': 10, 'asymp_factor': 0.5}\n"
     ]
    },
    {
     "name": "stderr",
     "output_type": "stream",
     "text": [
      "100%|██████████| 1000/1000 [00:09<00:00, 101.77it/s]\n",
      "  1%|          | 9/1000 [00:00<00:11, 87.74it/s]"
     ]
    },
    {
     "name": "stdout",
     "output_type": "stream",
     "text": [
      "{'home_sar': 0.51, 'work_sar': 0.0765, 'other_sar': 0.0765, 'period': 10, 'asymp_factor': 0.5}\n"
     ]
    },
    {
     "name": "stderr",
     "output_type": "stream",
     "text": [
      "100%|██████████| 1000/1000 [00:11<00:00, 88.42it/s]\n",
      "  1%|          | 7/1000 [00:00<00:15, 62.91it/s]"
     ]
    },
    {
     "name": "stdout",
     "output_type": "stream",
     "text": [
      "{'home_sar': 0.54, 'work_sar': 0.081, 'other_sar': 0.081, 'period': 10, 'asymp_factor': 0.5}\n"
     ]
    },
    {
     "name": "stderr",
     "output_type": "stream",
     "text": [
      "100%|██████████| 1000/1000 [00:11<00:00, 88.31it/s]\n",
      "  1%|          | 8/1000 [00:00<00:12, 79.26it/s]"
     ]
    },
    {
     "name": "stdout",
     "output_type": "stream",
     "text": [
      "{'home_sar': 0.57, 'work_sar': 0.08549999999999999, 'other_sar': 0.08549999999999999, 'period': 10, 'asymp_factor': 0.5}\n"
     ]
    },
    {
     "name": "stderr",
     "output_type": "stream",
     "text": [
      "100%|██████████| 1000/1000 [00:10<00:00, 96.83it/s]\n"
     ]
    },
    {
     "name": "stdout",
     "output_type": "stream",
     "text": [
      "[1.2931097095040438, 1.3689705749968633, 1.395988475140555, 1.4540088462411158, 1.5115429687656368, 1.5843484072550273, 1.6304636789013855, 1.6970344033237, 1.7568661395253515, 1.7950364059617117]\n"
     ]
    }
   ],
   "source": [
    "#loweround = 1.4\n",
    "#upperBound = 1.7\n",
    "#new_variant = [1, 1.25, 1.5, 1.75, 2]\n",
    "new_variant = [1, 1.1, 1.2, 1.3, 1.4, 1.5, 1.6, 1.7, 1.8, 1.9]\n",
    "\n",
    "\n",
    "n_seperate_starting_cases = 1000\n",
    "n_repetitions = 10\n",
    "\n",
    "efficent_R_values = list()\n",
    "base_R_values = list()\n",
    "\n",
    "def find_R(variant):\n",
    "    contacts_config = config.get_contacts_config(\"delve\")\n",
    "    contacts_config = dict(home_sar=contacts_config.get(\"home_sar\") * variant,\n",
    "                           work_sar=contacts_config.get(\"work_sar\") * variant, \n",
    "                           other_sar=contacts_config.get(\"other_sar\") * variant, \n",
    "                           period=10, asymp_factor=0.5)\n",
    "    print(contacts_config)\n",
    "    \n",
    "    for i in tqdm(range(n_seperate_starting_cases)):\n",
    "        old_probs = []\n",
    "        for i in range(n_repetitions):\n",
    "            case = simulate_case(rng, p_for_categories_continued=old_probs, **case_config)\n",
    "            case_factors = CaseFactors.simulate_from(rng, case, **factor_config)\n",
    "            (contacts, old_probs, death_rate) = simulate_contacts(case, **contacts_config)\n",
    "            res = tti_model(case, contacts, case_factors)\n",
    "            efficent_R.append(res)\n",
    "            \n",
    "    scaled_R = pd.DataFrame(\n",
    "                    efficent_R\n",
    "                ).mean(\n",
    "                    0\n",
    "                ).loc[\n",
    "                    to_show\n",
    "                ].mul(\n",
    "                    scales\n",
    "                )\n",
    "    efficent_R_values.append(scaled_R.get(\"Effective R\"))\n",
    "    base_R_values.append(scaled_R.get(\"Base R\"))\n",
    "\n",
    "efficent_R = list()\n",
    "for i in new_variant:\n",
    "    find_R(i)\n",
    "      \n",
    "print(efficent_R_values)\n",
    "\n",
    "\n",
    "    \n"
   ]
  },
  {
   "cell_type": "code",
   "execution_count": 23,
   "metadata": {},
   "outputs": [
    {
     "data": {
      "image/png": "[encoded data removed]",
      "text/plain": [
       "<Figure size 432x288 with 1 Axes>"
      ]
     },
     "metadata": {
      "needs_background": "light"
     },
     "output_type": "display_data"
    }
   ],
   "source": [
    "plt.ylabel('Efficent R')\n",
    "plt.xlabel('N501Y transmission rate increased by percentage')\n",
    "label_variant = [n - 1 for n in new_variant]\n",
    "plt.plot(label_variant, efficent_R_values , 'ro')\n",
    "plt.show()"
   ]
  },
  {
   "cell_type": "code",
   "execution_count": 24,
   "metadata": {},
   "outputs": [
    {
     "data": {
      "image/png": "[encoded data removed]",
      "text/plain": [
       "<Figure size 432x288 with 1 Axes>"
      ]
     },
     "metadata": {
      "needs_background": "light"
     },
     "output_type": "display_data"
    }
   ],
   "source": [
    "plt.ylabel('Base R')\n",
    "plt.xlabel('N501Y transmission rate increased by percentage')\n",
    "label_variant = [n - 1 for n in new_variant]\n",
    "plt.plot(label_variant, base_R_values , 'ro')\n",
    "plt.show()"
   ]
  },
  {
   "cell_type": "code",
   "execution_count": null,
   "metadata": {},
   "outputs": [],
   "source": []
  }
 ],
 "metadata": {
  "kernelspec": {
   "display_name": "Python 3",
   "language": "python",
   "name": "python3"
  },
  "language_info": {
   "codemirror_mode": {
    "name": "ipython",
    "version": 3
   },
   "file_extension": ".py",
   "mimetype": "text/x-python",
   "name": "python",
   "nbconvert_exporter": "python",
   "pygments_lexer": "ipython3",
   "version": "3.8.5"
  }
 },
 "nbformat": 4,
 "nbformat_minor": 4
}
